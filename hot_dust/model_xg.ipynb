{
 "cells": [
  {
   "cell_type": "markdown",
   "metadata": {},
   "source": [
    "## Setup"
   ]
  },
  {
   "cell_type": "code",
   "execution_count": 1,
   "metadata": {},
   "outputs": [
    {
     "ename": "ModuleNotFoundError",
     "evalue": "No module named 'hot_dust'",
     "output_type": "error",
     "traceback": [
      "\u001b[1;31m---------------------------------------------------------------------------\u001b[0m",
      "\u001b[1;31mModuleNotFoundError\u001b[0m                       Traceback (most recent call last)",
      "\u001b[1;32mc:\\Users\\micah\\hot-dust\\hot_dust\\model_xg.ipynb Cell 2\u001b[0m line \u001b[0;36m8\n\u001b[0;32m      <a href='vscode-notebook-cell:/c%3A/Users/micah/hot-dust/hot_dust/model_xg.ipynb#W1sZmlsZQ%3D%3D?line=4'>5</a>\u001b[0m \u001b[39mfrom\u001b[39;00m \u001b[39msklearn\u001b[39;00m\u001b[39m.\u001b[39;00m\u001b[39mmetrics\u001b[39;00m \u001b[39mimport\u001b[39;00m mean_squared_error\n\u001b[0;32m      <a href='vscode-notebook-cell:/c%3A/Users/micah/hot-dust/hot_dust/model_xg.ipynb#W1sZmlsZQ%3D%3D?line=6'>7</a>\u001b[0m \u001b[39m# Load the data\u001b[39;00m\n\u001b[1;32m----> <a href='vscode-notebook-cell:/c%3A/Users/micah/hot-dust/hot_dust/model_xg.ipynb#W1sZmlsZQ%3D%3D?line=7'>8</a>\u001b[0m \u001b[39mfrom\u001b[39;00m \u001b[39mhot_dust\u001b[39;00m \u001b[39mimport\u001b[39;00m preprocess\n\u001b[0;32m      <a href='vscode-notebook-cell:/c%3A/Users/micah/hot-dust/hot_dust/model_xg.ipynb#W1sZmlsZQ%3D%3D?line=8'>9</a>\u001b[0m ds \u001b[39m=\u001b[39m preprocess\u001b[39m.\u001b[39mprepare_training_data() \n\u001b[0;32m     <a href='vscode-notebook-cell:/c%3A/Users/micah/hot-dust/hot_dust/model_xg.ipynb#W1sZmlsZQ%3D%3D?line=10'>11</a>\u001b[0m \u001b[39mfrom\u001b[39;00m \u001b[39mimportlib\u001b[39;00m \u001b[39mimport\u001b[39;00m reload\n",
      "\u001b[1;31mModuleNotFoundError\u001b[0m: No module named 'hot_dust'"
     ]
    }
   ],
   "source": [
    "from xgboost import XGBRegressor\n",
    "import xgboost as xgb\n",
    "import numpy as np \n",
    "from sklearn.model_selection import train_test_split  \n",
    "from sklearn.metrics import mean_squared_error\n",
    "\n",
    "# Load the data\n",
    "from hot_dust import preprocess\n",
    "ds = preprocess.prepare_training_data() \n",
    "\n",
    "from importlib import reload\n",
    "preprocess = reload(preprocess)"
   ]
  },
  {
   "cell_type": "code",
   "execution_count": null,
   "metadata": {},
   "outputs": [],
   "source": [
    "# Extract the values\n",
    "X = ds['x'].values  \n",
    "y = ds['y'].values \n",
    "\n",
    "X_train, X_test, y_train, y_test = train_test_split(X, y, test_size=0.2, random_state=1234) \n",
    "\n",
    "# Create an xgboost regression model\n",
    "model = xgb.XGBRegressor(\n",
    "    objective='reg:squarederror',\n",
    "    max_depth= 3,\n",
    "    learning_rate= 3e-4,\n",
    "    subsample= 1.0,\n",
    "    colsample_bytree= 1.0,\n",
    "    n_estimators= 500\n",
    ")\n",
    "\n",
    "# Train the XGBoost model\n",
    "model.fit(X_train, y_train)\n",
    "\n",
    "# Make predictions on the test set\n",
    "y_pred = model.predict(X_test)\n",
    "\n",
    "# Calculate the mean squared error and R-squared score\n",
    "mse = mean_squared_error(y_test, y_pred)\n",
    "r2 = r2_score(y_test, y_pred)\n",
    "\n",
    "print(\"Mean Squared Error:\", mse)\n",
    "print(\"R-squared Score:\", r2)\n"
   ]
  },
  {
   "cell_type": "code",
   "execution_count": null,
   "metadata": {},
   "outputs": [],
   "source": []
  }
 ],
 "metadata": {
  "kernelspec": {
   "display_name": "Python 3",
   "language": "python",
   "name": "python3"
  },
  "language_info": {
   "codemirror_mode": {
    "name": "ipython",
    "version": 3
   },
   "file_extension": ".py",
   "mimetype": "text/x-python",
   "name": "python",
   "nbconvert_exporter": "python",
   "pygments_lexer": "ipython3",
   "version": "3.11.6"
  },
  "orig_nbformat": 4
 },
 "nbformat": 4,
 "nbformat_minor": 2
}
