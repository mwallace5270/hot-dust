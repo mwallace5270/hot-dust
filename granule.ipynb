{
 "cells": [
  {
   "cell_type": "code",
   "execution_count": null,
   "id": "9727d8d1-783d-4385-aa42-3eaedb263f75",
   "metadata": {},
   "outputs": [],
   "source": [
    "from pathlib import Path\n",
    "\n",
    "import xarray as xr\n",
    "import numpy as np\n",
    "import holoviews as hv\n",
    "from holoviews.operation import Operation\n",
    "from holoviews.operation.datashader import rasterize\n",
    "\n",
    "hv.extension(\"bokeh\")"
   ]
  },
  {
   "cell_type": "code",
   "execution_count": null,
   "id": "a7d6da55-928c-4ac8-a5db-b40fe240f6a4",
   "metadata": {},
   "outputs": [],
   "source": [
    "opts = {\n",
    "    \"fontscale\": 4,\n",
    "    \"xlim\": (-30, -10),\n",
    "    \"ylim\": (10, 30),\n",
    "    \"frame_height\": 800,\n",
    "    \"frame_width\": 800,\n",
    "    \"active_tools\": [],\n",
    "    \"tools\": [\"hover\"],\n",
    "}\n",
    "hv.opts.defaults(\n",
    "    hv.opts.Image(**opts),\n",
    "    hv.opts.RGB(**opts)\n",
    ")"
   ]
  },
  {
   "cell_type": "code",
   "execution_count": null,
   "id": "2a522291-5e35-4123-ac46-01cb4b83f0e0",
   "metadata": {},
   "outputs": [],
   "source": [
    "class rgb(Operation):\n",
    "    # https://holoviews.org/user_guide/Transforming_Elements.html#defining-custom-operations\n",
    "    def _process(self, overlay, key=None):\n",
    "        dataset = xr.merge((image.data for image in overlay.values()))\n",
    "        array = dataset.to_array(\"band\").transpose(..., \"band\")\n",
    "        return hv.RGB(array)"
   ]
  },
  {
   "cell_type": "code",
   "execution_count": null,
   "id": "5db78d70-949f-45b2-b05b-b4ac539b67c4",
   "metadata": {},
   "outputs": [],
   "source": [
    "granule = Path(\"data/granules\")\n",
    "layout_view = []\n",
    "for i, item in enumerate(sorted(granule.glob(\"VNP02MOD.*.nc\"))):\n",
    "    stem = item.stem.split(\".\")\n",
    "    granule_id = \".\".join(stem[1:3])\n",
    "    level1 = xr.open_dataset(item, group=\"observation_data\", mask_and_scale=True, chunks={})\n",
    "    if \"M03\" in level1:\n",
    "        path = next(granule.glob(f\"VNP03MOD.{granule_id}.*\"))\n",
    "        geoloc = xr.open_dataset(path, group=\"geolocation_data\", chunks={})\n",
    "        level1 = level1.assign_coords(geoloc[[\"longitude\", \"latitude\"]])\n",
    "        level1 = level1[[\"M05\", \"M04\", \"M03\"]] / np.cos(np.deg2rad(geoloc[\"solar_zenith\"]))\n",
    "        # clip to [0, 1] for true color plot\n",
    "        level1 = level1.where(level1 <= 1)\n",
    "        # gamma adjustment for true color plot\n",
    "        gamma = 2.2\n",
    "        level1 = level1 ** (1/gamma)\n",
    "        red, green, blue = [rasterize(hv.QuadMesh(level1[i])) for i in (\"M05\", \"M04\", \"M03\")]\n",
    "        layout_view.append(\n",
    "            rgb(red * green * blue)\n",
    "        )\n",
    "    else:\n",
    "        path = next(granule.glob(f\"VNP02DNB.{granule_id}.*\"))\n",
    "        dnb = xr.open_dataset(path, group=\"observation_data\", mask_and_scale=True, chunks={})\n",
    "        path = next(granule.glob(f\"VNP03DNB.{granule_id}.*\"))\n",
    "        geoloc = xr.open_dataset(path, group=\"geolocation_data\", chunks={})\n",
    "        dnb = dnb.assign_coords(geoloc[[\"longitude\", \"latitude\"]])\n",
    "        dnb = dnb[\"DNB_observations\"]\n",
    "        dnb = np.log10(dnb.where(dnb > 0))\n",
    "        dnb[\"longitude\"].attrs.clear()\n",
    "        dnb[\"latitude\"].attrs.clear()\n",
    "        layout_view.append(\n",
    "            rasterize(hv.QuadMesh(dnb))\n",
    "            .redim.range(DNB_observations=(-12.1, -6.9))\n",
    "            .opts(cmap=\"Inferno\", colorbar=True, clabel=\"log(DNB)\")\n",
    "        )"
   ]
  },
  {
   "cell_type": "code",
   "execution_count": null,
   "id": "d86453b3-e07e-4b24-a8e0-a09aa996a109",
   "metadata": {},
   "outputs": [],
   "source": [
    "hv.Layout(layout_view).cols(1)"
   ]
  },
  {
   "cell_type": "code",
   "execution_count": null,
   "id": "bfe03b64-af48-44c2-8105-7ac9ea383044",
   "metadata": {},
   "outputs": [],
   "source": [
    "granule = Path(\"data/granules\")\n",
    "prediction = Path(\"data/granules-prediction-cm\")\n",
    "layout_pred_cm = []\n",
    "for i, item in enumerate(sorted(prediction.glob(\"VNP02MOD.*.nc\"))):\n",
    "    stem = item.stem.split(\".\")\n",
    "    granule_id = \".\".join(stem[1:3])\n",
    "    ds = xr.open_dataset(item)\n",
    "    path = next(granule.glob(f\"VNP03MOD.{granule_id}.*\"))\n",
    "    geoloc = xr.open_dataset(path, group=\"geolocation_data\")\n",
    "    ds = ds.assign_coords(geoloc[[\"longitude\", \"latitude\"]])\n",
    "    ds[\"longitude\"].attrs.clear()\n",
    "    ds[\"latitude\"].attrs.clear()\n",
    "    layout_pred_cm.append(\n",
    "        rasterize(hv.QuadMesh(np.power(10, ds[\"y_pred\"])))\n",
    "        .redim.range(y_pred=(-0.1, 4.1))\n",
    "        .opts(cmap=\"bjy\", colorbar=True, clabel=\"AOT at 10um\")\n",
    "    )"
   ]
  },
  {
   "cell_type": "code",
   "execution_count": null,
   "id": "d50c9638-778c-4d0b-a918-1d0f418407cc",
   "metadata": {},
   "outputs": [],
   "source": [
    "hv.Layout(layout_pred_cm).cols(1)"
   ]
  },
  {
   "cell_type": "code",
   "execution_count": null,
   "id": "221353f0-be47-4c5a-915b-3c271f40426a",
   "metadata": {},
   "outputs": [],
   "source": [
    "granule = Path(\"data/granules\")\n",
    "prediction = Path(\"data/granules-prediction\")\n",
    "layout_pred = []\n",
    "for i, item in enumerate(sorted(prediction.glob(\"VNP02MOD.*.nc\"))):\n",
    "    stem = item.stem.split(\".\")\n",
    "    granule_id = \".\".join(stem[1:3])\n",
    "    ds = xr.open_dataset(item)\n",
    "    path = next(granule.glob(f\"VNP03MOD.{granule_id}.*\"))\n",
    "    geoloc = xr.open_dataset(path, group=\"geolocation_data\")\n",
    "    ds = ds.assign_coords(geoloc[[\"longitude\", \"latitude\"]])\n",
    "    ds[\"longitude\"].attrs.clear()\n",
    "    ds[\"latitude\"].attrs.clear()\n",
    "    layout_pred.append(\n",
    "        rasterize(hv.QuadMesh(np.power(10, ds[\"y_pred\"])))\n",
    "        .redim.range(y_pred=(-0.1, 4.1))\n",
    "        .opts(cmap=\"bjy\", colorbar=True, clabel=\"AOT at 10um\")\n",
    "    )"
   ]
  },
  {
   "cell_type": "code",
   "execution_count": null,
   "id": "410ed1c5-ef03-4323-8569-e26ff6cc8a9b",
   "metadata": {},
   "outputs": [],
   "source": [
    "hv.Layout(layout_pred).cols(1)"
   ]
  },
  {
   "cell_type": "code",
   "execution_count": null,
   "id": "a23487d6-6fb0-455b-bf8b-f2cc9e3f9644",
   "metadata": {},
   "outputs": [],
   "source": []
  }
 ],
 "metadata": {
  "kernelspec": {
   "display_name": "hot-dust",
   "language": "python",
   "name": "hot-dust"
  },
  "language_info": {
   "codemirror_mode": {
    "name": "ipython",
    "version": 3
   },
   "file_extension": ".py",
   "mimetype": "text/x-python",
   "name": "python",
   "nbconvert_exporter": "python",
   "pygments_lexer": "ipython3",
   "version": "3.10.13"
  }
 },
 "nbformat": 4,
 "nbformat_minor": 5
}
