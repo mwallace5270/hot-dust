{
 "cells": [
  {
   "cell_type": "markdown",
   "metadata": {},
   "source": [
    "### Setup"
   ]
  },
  {
   "cell_type": "code",
   "execution_count": 8,
   "metadata": {},
   "outputs": [],
   "source": [
    "import numpy as np\n",
    "\n",
    "from hot_dust import preprocess, model"
   ]
  },
  {
   "cell_type": "code",
   "execution_count": 9,
   "metadata": {},
   "outputs": [],
   "source": [
    "from importlib import reload\n",
    "\n",
    "preprocess = reload(preprocess)\n",
    "model = reload(model)"
   ]
  },
  {
   "cell_type": "code",
   "execution_count": 10,
   "metadata": {},
   "outputs": [],
   "source": [
    "ds = preprocess.prepare_training_data()\n",
    "train, validate, test = preprocess.to_tensorflow(preprocess.split_training_data(ds))"
   ]
  },
  {
   "cell_type": "markdown",
   "metadata": {},
   "source": [
    "### Parameters"
   ]
  },
  {
   "cell_type": "code",
   "execution_count": 11,
   "metadata": {},
   "outputs": [],
   "source": [
    "epochs = 50\n",
    "batch_size = 64\n",
    "buffer_size = 10 * batch_size\n",
    "\n",
    "model = reload(model)  # DEBUG\n",
    "\n",
    "train = train.shuffle(buffer_size).batch(batch_size)\n",
    "validate = validate.batch(batch_size)\n",
    "\n",
    "layer = model.pretraining(dataset=test)"
   ]
  },
  {
   "cell_type": "code",
   "execution_count": 12,
   "metadata": {},
   "outputs": [
    {
     "name": "stdout",
     "output_type": "stream",
     "text": [
      "Model: \"model_1\"\n",
      "_________________________________________________________________\n",
      " Layer (type)                Output Shape              Param #   \n",
      "=================================================================\n",
      " input_2 (InputLayer)        [(None, 11)]              0         \n",
      "                                                                 \n",
      " normalization_1 (Normalizat  (None, 11)               23        \n",
      " ion)                                                            \n",
      "                                                                 \n",
      " dense_4 (Dense)             (None, 16)                192       \n",
      "                                                                 \n",
      " dense_6 (Dense)             (None, 8)                 136       \n",
      "                                                                 \n",
      " dense_7 (Dense)             (None, 1)                 9         \n",
      "                                                                 \n",
      "=================================================================\n",
      "Total params: 360\n",
      "Trainable params: 337\n",
      "Non-trainable params: 23\n",
      "_________________________________________________________________\n"
     ]
    }
   ],
   "source": [
    "network = model.compile(normalization=layer)\n",
    "network.summary()"
   ]
  },
  {
   "cell_type": "markdown",
   "metadata": {},
   "source": [
    "### Fitting"
   ]
  },
  {
   "cell_type": "code",
   "execution_count": 13,
   "metadata": {},
   "outputs": [
    {
     "name": "stdout",
     "output_type": "stream",
     "text": [
      "Epoch 1/50\n"
     ]
    },
    {
     "name": "stdout",
     "output_type": "stream",
     "text": [
      "126/126 - 1s - loss: 17.2895 - val_loss: 15.0849 - 601ms/epoch - 5ms/step\n",
      "Epoch 2/50\n",
      "126/126 - 0s - loss: 12.3522 - val_loss: 11.3307 - 126ms/epoch - 1ms/step\n",
      "Epoch 3/50\n",
      "126/126 - 0s - loss: 9.3930 - val_loss: 8.6317 - 103ms/epoch - 816us/step\n",
      "Epoch 4/50\n",
      "126/126 - 0s - loss: 7.2086 - val_loss: 6.6708 - 135ms/epoch - 1ms/step\n",
      "Epoch 5/50\n",
      "126/126 - 0s - loss: 5.8243 - val_loss: 5.5933 - 98ms/epoch - 778us/step\n",
      "Epoch 6/50\n",
      "126/126 - 0s - loss: 5.1820 - val_loss: 5.1339 - 97ms/epoch - 768us/step\n",
      "Epoch 7/50\n",
      "126/126 - 0s - loss: 4.9004 - val_loss: 4.8916 - 102ms/epoch - 807us/step\n",
      "Epoch 8/50\n",
      "126/126 - 0s - loss: 4.7100 - val_loss: 4.7035 - 104ms/epoch - 825us/step\n",
      "Epoch 9/50\n",
      "126/126 - 0s - loss: 4.5415 - val_loss: 4.5331 - 103ms/epoch - 814us/step\n",
      "Epoch 10/50\n",
      "126/126 - 0s - loss: 4.3791 - val_loss: 4.3670 - 100ms/epoch - 793us/step\n",
      "Epoch 11/50\n",
      "126/126 - 0s - loss: 4.2157 - val_loss: 4.1973 - 100ms/epoch - 795us/step\n",
      "Epoch 12/50\n",
      "126/126 - 0s - loss: 4.0425 - val_loss: 4.0165 - 101ms/epoch - 804us/step\n",
      "Epoch 13/50\n",
      "126/126 - 0s - loss: 3.8475 - val_loss: 3.8118 - 98ms/epoch - 781us/step\n",
      "Epoch 14/50\n",
      "126/126 - 0s - loss: 3.6224 - val_loss: 3.5764 - 100ms/epoch - 797us/step\n",
      "Epoch 15/50\n",
      "126/126 - 0s - loss: 3.3773 - val_loss: 3.3325 - 96ms/epoch - 765us/step\n",
      "Epoch 16/50\n",
      "126/126 - 0s - loss: 3.1548 - val_loss: 3.1352 - 100ms/epoch - 791us/step\n",
      "Epoch 17/50\n",
      "126/126 - 0s - loss: 2.9749 - val_loss: 2.9768 - 98ms/epoch - 778us/step\n",
      "Epoch 18/50\n",
      "126/126 - 0s - loss: 2.8390 - val_loss: 2.8582 - 100ms/epoch - 795us/step\n",
      "Epoch 19/50\n",
      "126/126 - 0s - loss: 2.7384 - val_loss: 2.7689 - 100ms/epoch - 793us/step\n",
      "Epoch 20/50\n",
      "126/126 - 0s - loss: 2.6597 - val_loss: 2.6909 - 99ms/epoch - 787us/step\n",
      "Epoch 21/50\n",
      "126/126 - 0s - loss: 2.5933 - val_loss: 2.6240 - 106ms/epoch - 842us/step\n",
      "Epoch 22/50\n",
      "126/126 - 0s - loss: 2.5330 - val_loss: 2.5596 - 100ms/epoch - 792us/step\n",
      "Epoch 23/50\n",
      "126/126 - 0s - loss: 2.4786 - val_loss: 2.5010 - 105ms/epoch - 832us/step\n",
      "Epoch 24/50\n",
      "126/126 - 0s - loss: 2.4287 - val_loss: 2.4440 - 109ms/epoch - 868us/step\n",
      "Epoch 25/50\n",
      "126/126 - 0s - loss: 2.3785 - val_loss: 2.3921 - 98ms/epoch - 778us/step\n",
      "Epoch 26/50\n",
      "126/126 - 0s - loss: 2.3334 - val_loss: 2.3417 - 97ms/epoch - 767us/step\n",
      "Epoch 27/50\n",
      "126/126 - 0s - loss: 2.2886 - val_loss: 2.2997 - 98ms/epoch - 778us/step\n",
      "Epoch 28/50\n",
      "126/126 - 0s - loss: 2.2488 - val_loss: 2.2568 - 101ms/epoch - 805us/step\n",
      "Epoch 29/50\n",
      "126/126 - 0s - loss: 2.2105 - val_loss: 2.2158 - 107ms/epoch - 848us/step\n",
      "Epoch 30/50\n",
      "126/126 - 0s - loss: 2.1745 - val_loss: 2.1787 - 102ms/epoch - 810us/step\n",
      "Epoch 31/50\n",
      "126/126 - 0s - loss: 2.1410 - val_loss: 2.1460 - 98ms/epoch - 781us/step\n",
      "Epoch 32/50\n",
      "126/126 - 0s - loss: 2.1083 - val_loss: 2.1129 - 96ms/epoch - 761us/step\n",
      "Epoch 33/50\n",
      "126/126 - 0s - loss: 2.0804 - val_loss: 2.0826 - 105ms/epoch - 832us/step\n",
      "Epoch 34/50\n",
      "126/126 - 0s - loss: 2.0520 - val_loss: 2.0537 - 97ms/epoch - 771us/step\n",
      "Epoch 35/50\n",
      "126/126 - 0s - loss: 2.0253 - val_loss: 2.0253 - 99ms/epoch - 786us/step\n",
      "Epoch 36/50\n",
      "126/126 - 0s - loss: 2.0007 - val_loss: 2.0001 - 99ms/epoch - 786us/step\n",
      "Epoch 37/50\n",
      "126/126 - 0s - loss: 1.9779 - val_loss: 1.9765 - 95ms/epoch - 754us/step\n",
      "Epoch 38/50\n",
      "126/126 - 0s - loss: 1.9540 - val_loss: 1.9521 - 98ms/epoch - 775us/step\n",
      "Epoch 39/50\n",
      "126/126 - 0s - loss: 1.9345 - val_loss: 1.9294 - 98ms/epoch - 780us/step\n",
      "Epoch 40/50\n",
      "126/126 - 0s - loss: 1.9141 - val_loss: 1.9117 - 103ms/epoch - 818us/step\n",
      "Epoch 41/50\n",
      "126/126 - 0s - loss: 1.8959 - val_loss: 1.8915 - 125ms/epoch - 992us/step\n",
      "Epoch 42/50\n",
      "126/126 - 0s - loss: 1.8788 - val_loss: 1.8756 - 99ms/epoch - 788us/step\n",
      "Epoch 43/50\n",
      "126/126 - 0s - loss: 1.8619 - val_loss: 1.8544 - 110ms/epoch - 874us/step\n",
      "Epoch 44/50\n",
      "126/126 - 0s - loss: 1.8467 - val_loss: 1.8383 - 100ms/epoch - 795us/step\n",
      "Epoch 45/50\n",
      "126/126 - 0s - loss: 1.8322 - val_loss: 1.8228 - 99ms/epoch - 787us/step\n",
      "Epoch 46/50\n",
      "126/126 - 0s - loss: 1.8178 - val_loss: 1.8092 - 103ms/epoch - 819us/step\n",
      "Epoch 47/50\n",
      "126/126 - 0s - loss: 1.8047 - val_loss: 1.7961 - 100ms/epoch - 793us/step\n",
      "Epoch 48/50\n",
      "126/126 - 0s - loss: 1.7900 - val_loss: 1.7800 - 97ms/epoch - 771us/step\n",
      "Epoch 49/50\n",
      "126/126 - 0s - loss: 1.7779 - val_loss: 1.7653 - 100ms/epoch - 794us/step\n",
      "Epoch 50/50\n",
      "126/126 - 0s - loss: 1.7655 - val_loss: 1.7557 - 99ms/epoch - 786us/step\n"
     ]
    },
    {
     "name": "stderr",
     "output_type": "stream",
     "text": [
      "WARNING:absl:Found untraced functions such as _update_step_xla while saving (showing 1 of 1). These functions will not be directly callable after loading.\n"
     ]
    },
    {
     "name": "stdout",
     "output_type": "stream",
     "text": [
      "INFO:tensorflow:Assets written to: data/network\\assets\n"
     ]
    },
    {
     "name": "stderr",
     "output_type": "stream",
     "text": [
      "INFO:tensorflow:Assets written to: data/network\\assets\n"
     ]
    }
   ],
   "source": [
    "fit = network.fit(\n",
    "    train,\n",
    "    epochs=epochs,\n",
    "    validation_data=validate,\n",
    "    verbose=2,\n",
    ")\n",
    "network.save(\"data/network\")\n",
    "fit = {\"epoch\": fit.epoch, **fit.history}\n",
    "np.savez(\"data/fit.npz\", fit)"
   ]
  },
  {
   "cell_type": "markdown",
   "metadata": {},
   "source": [
    "### Training and Validation Losses"
   ]
  },
  {
   "cell_type": "code",
   "execution_count": 14,
   "metadata": {},
   "outputs": [
    {
     "data": {},
     "metadata": {},
     "output_type": "display_data"
    },
    {
     "data": {
      "application/vnd.holoviews_exec.v0+json": "",
      "text/html": [
       "<div id='p1082'>\n",
       "  <div id=\"dc4e6dad-07e4-4479-af51-41f2fe6823b8\" data-root-id=\"p1082\" style=\"display: contents;\"></div>\n",
       "</div>\n",
       "<script type=\"application/javascript\">(function(root) {\n",
       "  var docs_json = {\"7d83969f-ce8e-4644-8d85-438216ba51e8\":{\"version\":\"3.2.1\",\"title\":\"Bokeh Application\",\"roots\":[{\"type\":\"object\",\"name\":\"Row\",\"id\":\"p1082\",\"attributes\":{\"name\":\"Row01084\",\"tags\":[\"embedded\"],\"stylesheets\":[\"\\n:host(.pn-loading.pn-arc):before, .pn-loading.pn-arc:before {\\n  background-image: url(\\\"data:image/svg+xml;base64,PHN2ZyB4bWxucz0iaHR0cDovL3d3dy53My5vcmcvMjAwMC9zdmciIHN0eWxlPSJtYXJnaW46IGF1dG87IGJhY2tncm91bmQ6IG5vbmU7IGRpc3BsYXk6IGJsb2NrOyBzaGFwZS1yZW5kZXJpbmc6IGF1dG87IiB2aWV3Qm94PSIwIDAgMTAwIDEwMCIgcHJlc2VydmVBc3BlY3RSYXRpbz0ieE1pZFlNaWQiPiAgPGNpcmNsZSBjeD0iNTAiIGN5PSI1MCIgZmlsbD0ibm9uZSIgc3Ryb2tlPSIjYzNjM2MzIiBzdHJva2Utd2lkdGg9IjEwIiByPSIzNSIgc3Ryb2tlLWRhc2hhcnJheT0iMTY0LjkzMzYxNDMxMzQ2NDE1IDU2Ljk3Nzg3MTQzNzgyMTM4Ij4gICAgPGFuaW1hdGVUcmFuc2Zvcm0gYXR0cmlidXRlTmFtZT0idHJhbnNmb3JtIiB0eXBlPSJyb3RhdGUiIHJlcGVhdENvdW50PSJpbmRlZmluaXRlIiBkdXI9IjFzIiB2YWx1ZXM9IjAgNTAgNTA7MzYwIDUwIDUwIiBrZXlUaW1lcz0iMDsxIj48L2FuaW1hdGVUcmFuc2Zvcm0+ICA8L2NpcmNsZT48L3N2Zz4=\\\");\\n  background-size: auto calc(min(50%, 400px));\\n}\",{\"type\":\"object\",\"name\":\"ImportedStyleSheet\",\"id\":\"p1085\",\"attributes\":{\"url\":\"https://cdn.holoviz.org/panel/1.2.1/dist/css/loading.css\"}},{\"type\":\"object\",\"name\":\"ImportedStyleSheet\",\"id\":\"p1156\",\"attributes\":{\"url\":\"https://cdn.holoviz.org/panel/1.2.1/dist/css/listpanel.css\"}},{\"type\":\"object\",\"name\":\"ImportedStyleSheet\",\"id\":\"p1083\",\"attributes\":{\"url\":\"https://cdn.holoviz.org/panel/1.2.1/dist/bundled/theme/default.css\"}},{\"type\":\"object\",\"name\":\"ImportedStyleSheet\",\"id\":\"p1084\",\"attributes\":{\"url\":\"https://cdn.holoviz.org/panel/1.2.1/dist/bundled/theme/native.css\"}}],\"min_width\":700,\"margin\":0,\"sizing_mode\":\"stretch_width\",\"align\":\"start\",\"children\":[{\"type\":\"object\",\"name\":\"Spacer\",\"id\":\"p1086\",\"attributes\":{\"name\":\"HSpacer01095\",\"stylesheets\":[\"\\n:host(.pn-loading.pn-arc):before, .pn-loading.pn-arc:before {\\n  background-image: url(\\\"data:image/svg+xml;base64,PHN2ZyB4bWxucz0iaHR0cDovL3d3dy53My5vcmcvMjAwMC9zdmciIHN0eWxlPSJtYXJnaW46IGF1dG87IGJhY2tncm91bmQ6IG5vbmU7IGRpc3BsYXk6IGJsb2NrOyBzaGFwZS1yZW5kZXJpbmc6IGF1dG87IiB2aWV3Qm94PSIwIDAgMTAwIDEwMCIgcHJlc2VydmVBc3BlY3RSYXRpbz0ieE1pZFlNaWQiPiAgPGNpcmNsZSBjeD0iNTAiIGN5PSI1MCIgZmlsbD0ibm9uZSIgc3Ryb2tlPSIjYzNjM2MzIiBzdHJva2Utd2lkdGg9IjEwIiByPSIzNSIgc3Ryb2tlLWRhc2hhcnJheT0iMTY0LjkzMzYxNDMxMzQ2NDE1IDU2Ljk3Nzg3MTQzNzgyMTM4Ij4gICAgPGFuaW1hdGVUcmFuc2Zvcm0gYXR0cmlidXRlTmFtZT0idHJhbnNmb3JtIiB0eXBlPSJyb3RhdGUiIHJlcGVhdENvdW50PSJpbmRlZmluaXRlIiBkdXI9IjFzIiB2YWx1ZXM9IjAgNTAgNTA7MzYwIDUwIDUwIiBrZXlUaW1lcz0iMDsxIj48L2FuaW1hdGVUcmFuc2Zvcm0+ICA8L2NpcmNsZT48L3N2Zz4=\\\");\\n  background-size: auto calc(min(50%, 400px));\\n}\",{\"id\":\"p1085\"},{\"id\":\"p1083\"},{\"id\":\"p1084\"}],\"margin\":0,\"sizing_mode\":\"stretch_width\",\"align\":\"start\"}},{\"type\":\"object\",\"name\":\"Figure\",\"id\":\"p1097\",\"attributes\":{\"width\":700,\"height\":300,\"margin\":[5,10],\"sizing_mode\":\"fixed\",\"align\":\"start\",\"x_range\":{\"type\":\"object\",\"name\":\"Range1d\",\"id\":\"p1087\",\"attributes\":{\"tags\":[[[\"epoch\",\"epoch\",null]],[]],\"start\":-2.1,\"end\":51.1,\"reset_start\":-2.1,\"reset_end\":51.1}},\"y_range\":{\"type\":\"object\",\"name\":\"Range1d\",\"id\":\"p1088\",\"attributes\":{\"tags\":[[[\"value\",\"value\",null]],{\"type\":\"map\",\"entries\":[[\"invert_yaxis\",false],[\"autorange\",false]]}],\"start\":0.20232840776443473,\"end\":18.842907583713533,\"reset_start\":0.20232840776443473,\"reset_end\":18.842907583713533}},\"x_scale\":{\"type\":\"object\",\"name\":\"LinearScale\",\"id\":\"p1107\"},\"y_scale\":{\"type\":\"object\",\"name\":\"LinearScale\",\"id\":\"p1108\"},\"title\":{\"type\":\"object\",\"name\":\"Title\",\"id\":\"p1100\",\"attributes\":{\"text_color\":\"black\",\"text_font_size\":\"12pt\"}},\"renderers\":[{\"type\":\"object\",\"name\":\"GlyphRenderer\",\"id\":\"p1133\",\"attributes\":{\"name\":\"train_loss\",\"data_source\":{\"type\":\"object\",\"name\":\"ColumnDataSource\",\"id\":\"p1124\",\"attributes\":{\"selected\":{\"type\":\"object\",\"name\":\"Selection\",\"id\":\"p1125\",\"attributes\":{\"indices\":[],\"line_indices\":[]}},\"selection_policy\":{\"type\":\"object\",\"name\":\"UnionRenderers\",\"id\":\"p1126\"},\"data\":{\"type\":\"map\",\"entries\":[[\"epoch\",{\"type\":\"ndarray\",\"array\":{\"type\":\"bytes\",\"data\":\"AAAAAAEAAAACAAAAAwAAAAQAAAAFAAAABgAAAAcAAAAIAAAACQAAAAoAAAALAAAADAAAAA0AAAAOAAAADwAAABAAAAARAAAAEgAAABMAAAAUAAAAFQAAABYAAAAXAAAAGAAAABkAAAAaAAAAGwAAABwAAAAdAAAAHgAAAB8AAAAgAAAAIQAAACIAAAAjAAAAJAAAACUAAAAmAAAAJwAAACgAAAApAAAAKgAAACsAAAAsAAAALQAAAC4AAAAvAAAAMAAAADEAAAA=\"},\"shape\":[50],\"dtype\":\"int32\",\"order\":\"little\"}],[\"value\",{\"type\":\"ndarray\",\"array\":{\"type\":\"bytes\",\"data\":\"AAAAYB5KMUAAAACAWLQoQAAAAIA2ySJAAAAAQKPVHEAAAADgC0wXQAAAAEBZuhRAAAAAoPaZE0AAAABAE9cSQAAAAMB1KhJAAAAAoDOEEUAAAAAg49wQQAAAAICNKxBAAAAAoL/HDkAAAACAk/oMQAAAAICxBAtAAAAAgPQ8CUAAAADAkswHQAAAAKBXtgZAAAAAoEboBUAAAABAA0cFQAAAAEAZvwRAAAAAYIxDBEAAAAAgG9QDQAAAAADkbQNAAAAA4DUHA0AAAABg36oCQAAAAMAATwJAAAAAYJj9AUAAAAAgLK8BQAAAACBxZQFAAAAAoNAgAUAAAACAz90AQAAAAMCkpABAAAAAQIFqAEAAAABA0TMAQAAAAIB6AQBAAAAAAHyl/z8AAACAx0P/PwAAAAC38/4/AAAAgP6f/j8AAACAdlX+PwAAAEChD/4/AAAAwDHK/T8AAABA4ov9PwAAACC1UP0/AAAA4LkV/T8AAAAgM+D8PwAAAKDIo/w/AAAAAHhy/D8AAACgkD/8Pw==\"},\"shape\":[50],\"dtype\":\"float64\",\"order\":\"little\"}],[\"Variable\",[\"train_loss\",\"train_loss\",\"train_loss\",\"train_loss\",\"train_loss\",\"train_loss\",\"train_loss\",\"train_loss\",\"train_loss\",\"train_loss\",\"train_loss\",\"train_loss\",\"train_loss\",\"train_loss\",\"train_loss\",\"train_loss\",\"train_loss\",\"train_loss\",\"train_loss\",\"train_loss\",\"train_loss\",\"train_loss\",\"train_loss\",\"train_loss\",\"train_loss\",\"train_loss\",\"train_loss\",\"train_loss\",\"train_loss\",\"train_loss\",\"train_loss\",\"train_loss\",\"train_loss\",\"train_loss\",\"train_loss\",\"train_loss\",\"train_loss\",\"train_loss\",\"train_loss\",\"train_loss\",\"train_loss\",\"train_loss\",\"train_loss\",\"train_loss\",\"train_loss\",\"train_loss\",\"train_loss\",\"train_loss\",\"train_loss\",\"train_loss\"]]]}}},\"view\":{\"type\":\"object\",\"name\":\"CDSView\",\"id\":\"p1134\",\"attributes\":{\"filter\":{\"type\":\"object\",\"name\":\"AllIndices\",\"id\":\"p1135\"}}},\"glyph\":{\"type\":\"object\",\"name\":\"Scatter\",\"id\":\"p1130\",\"attributes\":{\"tags\":[\"apply_ranges\"],\"x\":{\"type\":\"field\",\"field\":\"epoch\"},\"y\":{\"type\":\"field\",\"field\":\"value\"},\"size\":{\"type\":\"value\",\"value\":5.477225575051661},\"line_color\":{\"type\":\"value\",\"value\":\"#30a2da\"},\"fill_color\":{\"type\":\"value\",\"value\":\"#30a2da\"},\"hatch_color\":{\"type\":\"value\",\"value\":\"#30a2da\"}}},\"selection_glyph\":{\"type\":\"object\",\"name\":\"Scatter\",\"id\":\"p1138\",\"attributes\":{\"tags\":[\"apply_ranges\"],\"x\":{\"type\":\"field\",\"field\":\"epoch\"},\"y\":{\"type\":\"field\",\"field\":\"value\"},\"size\":{\"type\":\"value\",\"value\":5.477225575051661},\"angle\":{\"type\":\"value\",\"value\":0.0},\"line_color\":{\"type\":\"value\",\"value\":\"#30a2da\"},\"line_alpha\":{\"type\":\"value\",\"value\":1.0},\"line_width\":{\"type\":\"value\",\"value\":1},\"line_join\":{\"type\":\"value\",\"value\":\"bevel\"},\"line_cap\":{\"type\":\"value\",\"value\":\"butt\"},\"line_dash\":{\"type\":\"value\",\"value\":[]},\"line_dash_offset\":{\"type\":\"value\",\"value\":0},\"fill_color\":{\"type\":\"value\",\"value\":\"#30a2da\"},\"fill_alpha\":{\"type\":\"value\",\"value\":1.0},\"hatch_color\":{\"type\":\"value\",\"value\":\"#30a2da\"},\"hatch_alpha\":{\"type\":\"value\",\"value\":1.0},\"hatch_scale\":{\"type\":\"value\",\"value\":12.0},\"hatch_pattern\":{\"type\":\"value\",\"value\":null},\"hatch_weight\":{\"type\":\"value\",\"value\":1.0},\"marker\":{\"type\":\"value\",\"value\":\"circle\"}}},\"nonselection_glyph\":{\"type\":\"object\",\"name\":\"Scatter\",\"id\":\"p1131\",\"attributes\":{\"tags\":[\"apply_ranges\"],\"x\":{\"type\":\"field\",\"field\":\"epoch\"},\"y\":{\"type\":\"field\",\"field\":\"value\"},\"size\":{\"type\":\"value\",\"value\":5.477225575051661},\"line_color\":{\"type\":\"value\",\"value\":\"#30a2da\"},\"line_alpha\":{\"type\":\"value\",\"value\":0.1},\"fill_color\":{\"type\":\"value\",\"value\":\"#30a2da\"},\"fill_alpha\":{\"type\":\"value\",\"value\":0.1},\"hatch_color\":{\"type\":\"value\",\"value\":\"#30a2da\"},\"hatch_alpha\":{\"type\":\"value\",\"value\":0.1}}},\"muted_glyph\":{\"type\":\"object\",\"name\":\"Scatter\",\"id\":\"p1132\",\"attributes\":{\"tags\":[\"apply_ranges\"],\"x\":{\"type\":\"field\",\"field\":\"epoch\"},\"y\":{\"type\":\"field\",\"field\":\"value\"},\"size\":{\"type\":\"value\",\"value\":5.477225575051661},\"line_color\":{\"type\":\"value\",\"value\":\"#30a2da\"},\"line_alpha\":{\"type\":\"value\",\"value\":0.2},\"fill_color\":{\"type\":\"value\",\"value\":\"#30a2da\"},\"fill_alpha\":{\"type\":\"value\",\"value\":0.2},\"hatch_color\":{\"type\":\"value\",\"value\":\"#30a2da\"},\"hatch_alpha\":{\"type\":\"value\",\"value\":0.2}}}}},{\"type\":\"object\",\"name\":\"GlyphRenderer\",\"id\":\"p1148\",\"attributes\":{\"name\":\"validation_loss\",\"data_source\":{\"type\":\"object\",\"name\":\"ColumnDataSource\",\"id\":\"p1139\",\"attributes\":{\"selected\":{\"type\":\"object\",\"name\":\"Selection\",\"id\":\"p1140\",\"attributes\":{\"indices\":[],\"line_indices\":[]}},\"selection_policy\":{\"type\":\"object\",\"name\":\"UnionRenderers\",\"id\":\"p1141\"},\"data\":{\"type\":\"map\",\"entries\":[[\"epoch\",{\"type\":\"ndarray\",\"array\":{\"type\":\"bytes\",\"data\":\"AAAAAAEAAAACAAAAAwAAAAQAAAAFAAAABgAAAAcAAAAIAAAACQAAAAoAAAALAAAADAAAAA0AAAAOAAAADwAAABAAAAARAAAAEgAAABMAAAAUAAAAFQAAABYAAAAXAAAAGAAAABkAAAAaAAAAGwAAABwAAAAdAAAAHgAAAB8AAAAgAAAAIQAAACIAAAAjAAAAJAAAACUAAAAmAAAAJwAAACgAAAApAAAAKgAAACsAAAAsAAAALQAAAC4AAAAvAAAAMAAAADEAAAA=\"},\"shape\":[50],\"dtype\":\"int32\",\"order\":\"little\"}],[\"value\",{\"type\":\"ndarray\",\"array\":{\"type\":\"bytes\",\"data\":\"AAAAoHErLkAAAAAATKkmQAAAAABwQyFAAAAA4O2uGkAAAACgh18WQAAAACAWiRRAAAAAIAyRE0AAAAAgbdASQAAAAEDoIRJAAAAA4Mt3EUAAAABg/MkQQAAAAGDsEBBAAAAAgHh+DkAAAAAgZ5wMQAAAAAAFqQpAAAAAwNoUCUAAAADAhdAHQAAAAICC3QZAAAAAIMImBkAAAACABIcFQAAAAGAM/gRAAAAAgB16BEAAAABgAQIEQAAAAEA2jQNAAAAAgAwjA0AAAADAxLsCQAAAAKDGZQJAAAAA4P4NAkAAAAAg9rkBQAAAAKATbgFAAAAAwAkrAUAAAAAgUecAQAAAAEAQqQBAAAAAYPZtAEAAAADA3DMAQAAAAGAjAABAAAAAYPCf/z8AAAAg/Dv/PwAAAIDy3v4/AAAA4G2W/j8AAAAgp0P+PwAAAABsAv4/AAAAoKar/T8AAAAAwWn9PwAAAID/Kf0/AAAAQJzy/D8AAADg47z8PwAAAGDbevw/AAAAoKY+/D8AAABgYxf8Pw==\"},\"shape\":[50],\"dtype\":\"float64\",\"order\":\"little\"}],[\"Variable\",[\"validation_loss\",\"validation_loss\",\"validation_loss\",\"validation_loss\",\"validation_loss\",\"validation_loss\",\"validation_loss\",\"validation_loss\",\"validation_loss\",\"validation_loss\",\"validation_loss\",\"validation_loss\",\"validation_loss\",\"validation_loss\",\"validation_loss\",\"validation_loss\",\"validation_loss\",\"validation_loss\",\"validation_loss\",\"validation_loss\",\"validation_loss\",\"validation_loss\",\"validation_loss\",\"validation_loss\",\"validation_loss\",\"validation_loss\",\"validation_loss\",\"validation_loss\",\"validation_loss\",\"validation_loss\",\"validation_loss\",\"validation_loss\",\"validation_loss\",\"validation_loss\",\"validation_loss\",\"validation_loss\",\"validation_loss\",\"validation_loss\",\"validation_loss\",\"validation_loss\",\"validation_loss\",\"validation_loss\",\"validation_loss\",\"validation_loss\",\"validation_loss\",\"validation_loss\",\"validation_loss\",\"validation_loss\",\"validation_loss\",\"validation_loss\"]]]}}},\"view\":{\"type\":\"object\",\"name\":\"CDSView\",\"id\":\"p1149\",\"attributes\":{\"filter\":{\"type\":\"object\",\"name\":\"AllIndices\",\"id\":\"p1150\"}}},\"glyph\":{\"type\":\"object\",\"name\":\"Scatter\",\"id\":\"p1145\",\"attributes\":{\"tags\":[\"apply_ranges\"],\"x\":{\"type\":\"field\",\"field\":\"epoch\"},\"y\":{\"type\":\"field\",\"field\":\"value\"},\"size\":{\"type\":\"value\",\"value\":5.477225575051661},\"line_color\":{\"type\":\"value\",\"value\":\"#fc4f30\"},\"fill_color\":{\"type\":\"value\",\"value\":\"#fc4f30\"},\"hatch_color\":{\"type\":\"value\",\"value\":\"#fc4f30\"}}},\"selection_glyph\":{\"type\":\"object\",\"name\":\"Scatter\",\"id\":\"p1152\",\"attributes\":{\"tags\":[\"apply_ranges\"],\"x\":{\"type\":\"field\",\"field\":\"epoch\"},\"y\":{\"type\":\"field\",\"field\":\"value\"},\"size\":{\"type\":\"value\",\"value\":5.477225575051661},\"angle\":{\"type\":\"value\",\"value\":0.0},\"line_color\":{\"type\":\"value\",\"value\":\"#fc4f30\"},\"line_alpha\":{\"type\":\"value\",\"value\":1.0},\"line_width\":{\"type\":\"value\",\"value\":1},\"line_join\":{\"type\":\"value\",\"value\":\"bevel\"},\"line_cap\":{\"type\":\"value\",\"value\":\"butt\"},\"line_dash\":{\"type\":\"value\",\"value\":[]},\"line_dash_offset\":{\"type\":\"value\",\"value\":0},\"fill_color\":{\"type\":\"value\",\"value\":\"#fc4f30\"},\"fill_alpha\":{\"type\":\"value\",\"value\":1.0},\"hatch_color\":{\"type\":\"value\",\"value\":\"#fc4f30\"},\"hatch_alpha\":{\"type\":\"value\",\"value\":1.0},\"hatch_scale\":{\"type\":\"value\",\"value\":12.0},\"hatch_pattern\":{\"type\":\"value\",\"value\":null},\"hatch_weight\":{\"type\":\"value\",\"value\":1.0},\"marker\":{\"type\":\"value\",\"value\":\"circle\"}}},\"nonselection_glyph\":{\"type\":\"object\",\"name\":\"Scatter\",\"id\":\"p1146\",\"attributes\":{\"tags\":[\"apply_ranges\"],\"x\":{\"type\":\"field\",\"field\":\"epoch\"},\"y\":{\"type\":\"field\",\"field\":\"value\"},\"size\":{\"type\":\"value\",\"value\":5.477225575051661},\"line_color\":{\"type\":\"value\",\"value\":\"#fc4f30\"},\"line_alpha\":{\"type\":\"value\",\"value\":0.1},\"fill_color\":{\"type\":\"value\",\"value\":\"#fc4f30\"},\"fill_alpha\":{\"type\":\"value\",\"value\":0.1},\"hatch_color\":{\"type\":\"value\",\"value\":\"#fc4f30\"},\"hatch_alpha\":{\"type\":\"value\",\"value\":0.1}}},\"muted_glyph\":{\"type\":\"object\",\"name\":\"Scatter\",\"id\":\"p1147\",\"attributes\":{\"tags\":[\"apply_ranges\"],\"x\":{\"type\":\"field\",\"field\":\"epoch\"},\"y\":{\"type\":\"field\",\"field\":\"value\"},\"size\":{\"type\":\"value\",\"value\":5.477225575051661},\"line_color\":{\"type\":\"value\",\"value\":\"#fc4f30\"},\"line_alpha\":{\"type\":\"value\",\"value\":0.2},\"fill_color\":{\"type\":\"value\",\"value\":\"#fc4f30\"},\"fill_alpha\":{\"type\":\"value\",\"value\":0.2},\"hatch_color\":{\"type\":\"value\",\"value\":\"#fc4f30\"},\"hatch_alpha\":{\"type\":\"value\",\"value\":0.2}}}}}],\"toolbar\":{\"type\":\"object\",\"name\":\"Toolbar\",\"id\":\"p1106\",\"attributes\":{\"tools\":[{\"type\":\"object\",\"name\":\"WheelZoomTool\",\"id\":\"p1092\",\"attributes\":{\"tags\":[\"hv_created\"],\"zoom_together\":\"none\"}},{\"type\":\"object\",\"name\":\"HoverTool\",\"id\":\"p1093\",\"attributes\":{\"tags\":[\"hv_created\"],\"renderers\":[{\"id\":\"p1133\"},{\"id\":\"p1148\"}],\"tooltips\":[[\"Variable\",\"@{Variable}\"],[\"epoch\",\"@{epoch}\"],[\"value\",\"@{value}\"]]}},{\"type\":\"object\",\"name\":\"SaveTool\",\"id\":\"p1119\"},{\"type\":\"object\",\"name\":\"PanTool\",\"id\":\"p1120\"},{\"type\":\"object\",\"name\":\"BoxZoomTool\",\"id\":\"p1121\",\"attributes\":{\"overlay\":{\"type\":\"object\",\"name\":\"BoxAnnotation\",\"id\":\"p1122\",\"attributes\":{\"syncable\":false,\"level\":\"overlay\",\"visible\":false,\"left_units\":\"canvas\",\"right_units\":\"canvas\",\"bottom_units\":\"canvas\",\"top_units\":\"canvas\",\"line_color\":\"black\",\"line_alpha\":1.0,\"line_width\":2,\"line_dash\":[4,4],\"fill_color\":\"lightgrey\",\"fill_alpha\":0.5}}}},{\"type\":\"object\",\"name\":\"ResetTool\",\"id\":\"p1123\"}],\"active_drag\":{\"id\":\"p1120\"},\"active_scroll\":{\"id\":\"p1092\"}}},\"left\":[{\"type\":\"object\",\"name\":\"LinearAxis\",\"id\":\"p1114\",\"attributes\":{\"ticker\":{\"type\":\"object\",\"name\":\"BasicTicker\",\"id\":\"p1115\",\"attributes\":{\"mantissas\":[1,2,5]}},\"formatter\":{\"type\":\"object\",\"name\":\"BasicTickFormatter\",\"id\":\"p1116\"},\"axis_label\":\"\",\"major_label_policy\":{\"type\":\"object\",\"name\":\"AllLabels\",\"id\":\"p1117\"}}}],\"right\":[{\"type\":\"object\",\"name\":\"Legend\",\"id\":\"p1136\",\"attributes\":{\"location\":[0,0],\"title\":\"Variable\",\"click_policy\":\"mute\",\"items\":[{\"type\":\"object\",\"name\":\"LegendItem\",\"id\":\"p1137\",\"attributes\":{\"label\":{\"type\":\"value\",\"value\":\"train_loss\"},\"renderers\":[{\"id\":\"p1133\"}]}},{\"type\":\"object\",\"name\":\"LegendItem\",\"id\":\"p1151\",\"attributes\":{\"label\":{\"type\":\"value\",\"value\":\"validation_loss\"},\"renderers\":[{\"id\":\"p1148\"}]}}]}}],\"below\":[{\"type\":\"object\",\"name\":\"LinearAxis\",\"id\":\"p1109\",\"attributes\":{\"ticker\":{\"type\":\"object\",\"name\":\"BasicTicker\",\"id\":\"p1110\",\"attributes\":{\"mantissas\":[1,2,5]}},\"formatter\":{\"type\":\"object\",\"name\":\"BasicTickFormatter\",\"id\":\"p1111\"},\"axis_label\":\"epoch\",\"major_label_policy\":{\"type\":\"object\",\"name\":\"AllLabels\",\"id\":\"p1112\"}}}],\"center\":[{\"type\":\"object\",\"name\":\"Grid\",\"id\":\"p1113\",\"attributes\":{\"axis\":{\"id\":\"p1109\"},\"grid_line_color\":null}},{\"type\":\"object\",\"name\":\"Grid\",\"id\":\"p1118\",\"attributes\":{\"dimension\":1,\"axis\":{\"id\":\"p1114\"},\"grid_line_color\":null}}],\"min_border_top\":10,\"min_border_bottom\":10,\"min_border_left\":10,\"min_border_right\":10,\"output_backend\":\"webgl\"}},{\"type\":\"object\",\"name\":\"Spacer\",\"id\":\"p1154\",\"attributes\":{\"name\":\"HSpacer01098\",\"stylesheets\":[\"\\n:host(.pn-loading.pn-arc):before, .pn-loading.pn-arc:before {\\n  background-image: url(\\\"data:image/svg+xml;base64,PHN2ZyB4bWxucz0iaHR0cDovL3d3dy53My5vcmcvMjAwMC9zdmciIHN0eWxlPSJtYXJnaW46IGF1dG87IGJhY2tncm91bmQ6IG5vbmU7IGRpc3BsYXk6IGJsb2NrOyBzaGFwZS1yZW5kZXJpbmc6IGF1dG87IiB2aWV3Qm94PSIwIDAgMTAwIDEwMCIgcHJlc2VydmVBc3BlY3RSYXRpbz0ieE1pZFlNaWQiPiAgPGNpcmNsZSBjeD0iNTAiIGN5PSI1MCIgZmlsbD0ibm9uZSIgc3Ryb2tlPSIjYzNjM2MzIiBzdHJva2Utd2lkdGg9IjEwIiByPSIzNSIgc3Ryb2tlLWRhc2hhcnJheT0iMTY0LjkzMzYxNDMxMzQ2NDE1IDU2Ljk3Nzg3MTQzNzgyMTM4Ij4gICAgPGFuaW1hdGVUcmFuc2Zvcm0gYXR0cmlidXRlTmFtZT0idHJhbnNmb3JtIiB0eXBlPSJyb3RhdGUiIHJlcGVhdENvdW50PSJpbmRlZmluaXRlIiBkdXI9IjFzIiB2YWx1ZXM9IjAgNTAgNTA7MzYwIDUwIDUwIiBrZXlUaW1lcz0iMDsxIj48L2FuaW1hdGVUcmFuc2Zvcm0+ICA8L2NpcmNsZT48L3N2Zz4=\\\");\\n  background-size: auto calc(min(50%, 400px));\\n}\",{\"id\":\"p1085\"},{\"id\":\"p1083\"},{\"id\":\"p1084\"}],\"margin\":0,\"sizing_mode\":\"stretch_width\",\"align\":\"start\"}}]}}],\"defs\":[{\"type\":\"model\",\"name\":\"ReactiveHTML1\"},{\"type\":\"model\",\"name\":\"FlexBox1\",\"properties\":[{\"name\":\"align_content\",\"kind\":\"Any\",\"default\":\"flex-start\"},{\"name\":\"align_items\",\"kind\":\"Any\",\"default\":\"flex-start\"},{\"name\":\"flex_direction\",\"kind\":\"Any\",\"default\":\"row\"},{\"name\":\"flex_wrap\",\"kind\":\"Any\",\"default\":\"wrap\"},{\"name\":\"justify_content\",\"kind\":\"Any\",\"default\":\"flex-start\"}]},{\"type\":\"model\",\"name\":\"FloatPanel1\",\"properties\":[{\"name\":\"config\",\"kind\":\"Any\",\"default\":{\"type\":\"map\"}},{\"name\":\"contained\",\"kind\":\"Any\",\"default\":true},{\"name\":\"position\",\"kind\":\"Any\",\"default\":\"right-top\"},{\"name\":\"offsetx\",\"kind\":\"Any\",\"default\":null},{\"name\":\"offsety\",\"kind\":\"Any\",\"default\":null},{\"name\":\"theme\",\"kind\":\"Any\",\"default\":\"primary\"},{\"name\":\"status\",\"kind\":\"Any\",\"default\":\"normalized\"}]},{\"type\":\"model\",\"name\":\"GridStack1\",\"properties\":[{\"name\":\"mode\",\"kind\":\"Any\",\"default\":\"warn\"},{\"name\":\"ncols\",\"kind\":\"Any\",\"default\":null},{\"name\":\"nrows\",\"kind\":\"Any\",\"default\":null},{\"name\":\"allow_resize\",\"kind\":\"Any\",\"default\":true},{\"name\":\"allow_drag\",\"kind\":\"Any\",\"default\":true},{\"name\":\"state\",\"kind\":\"Any\",\"default\":[]}]},{\"type\":\"model\",\"name\":\"drag1\",\"properties\":[{\"name\":\"slider_width\",\"kind\":\"Any\",\"default\":5},{\"name\":\"slider_color\",\"kind\":\"Any\",\"default\":\"black\"},{\"name\":\"value\",\"kind\":\"Any\",\"default\":50}]},{\"type\":\"model\",\"name\":\"click1\",\"properties\":[{\"name\":\"terminal_output\",\"kind\":\"Any\",\"default\":\"\"},{\"name\":\"debug_name\",\"kind\":\"Any\",\"default\":\"\"},{\"name\":\"clears\",\"kind\":\"Any\",\"default\":0}]},{\"type\":\"model\",\"name\":\"FastWrapper1\",\"properties\":[{\"name\":\"object\",\"kind\":\"Any\",\"default\":null},{\"name\":\"style\",\"kind\":\"Any\",\"default\":null}]},{\"type\":\"model\",\"name\":\"NotificationAreaBase1\",\"properties\":[{\"name\":\"js_events\",\"kind\":\"Any\",\"default\":{\"type\":\"map\"}},{\"name\":\"position\",\"kind\":\"Any\",\"default\":\"bottom-right\"},{\"name\":\"_clear\",\"kind\":\"Any\",\"default\":0}]},{\"type\":\"model\",\"name\":\"NotificationArea1\",\"properties\":[{\"name\":\"js_events\",\"kind\":\"Any\",\"default\":{\"type\":\"map\"}},{\"name\":\"notifications\",\"kind\":\"Any\",\"default\":[]},{\"name\":\"position\",\"kind\":\"Any\",\"default\":\"bottom-right\"},{\"name\":\"_clear\",\"kind\":\"Any\",\"default\":0},{\"name\":\"types\",\"kind\":\"Any\",\"default\":[{\"type\":\"map\",\"entries\":[[\"type\",\"warning\"],[\"background\",\"#ffc107\"],[\"icon\",{\"type\":\"map\",\"entries\":[[\"className\",\"fas fa-exclamation-triangle\"],[\"tagName\",\"i\"],[\"color\",\"white\"]]}]]},{\"type\":\"map\",\"entries\":[[\"type\",\"info\"],[\"background\",\"#007bff\"],[\"icon\",{\"type\":\"map\",\"entries\":[[\"className\",\"fas fa-info-circle\"],[\"tagName\",\"i\"],[\"color\",\"white\"]]}]]}]}]},{\"type\":\"model\",\"name\":\"Notification\",\"properties\":[{\"name\":\"background\",\"kind\":\"Any\",\"default\":null},{\"name\":\"duration\",\"kind\":\"Any\",\"default\":3000},{\"name\":\"icon\",\"kind\":\"Any\",\"default\":null},{\"name\":\"message\",\"kind\":\"Any\",\"default\":\"\"},{\"name\":\"notification_type\",\"kind\":\"Any\",\"default\":null},{\"name\":\"_destroyed\",\"kind\":\"Any\",\"default\":false}]},{\"type\":\"model\",\"name\":\"TemplateActions1\",\"properties\":[{\"name\":\"open_modal\",\"kind\":\"Any\",\"default\":0},{\"name\":\"close_modal\",\"kind\":\"Any\",\"default\":0}]},{\"type\":\"model\",\"name\":\"BootstrapTemplateActions1\",\"properties\":[{\"name\":\"open_modal\",\"kind\":\"Any\",\"default\":0},{\"name\":\"close_modal\",\"kind\":\"Any\",\"default\":0}]},{\"type\":\"model\",\"name\":\"MaterialTemplateActions1\",\"properties\":[{\"name\":\"open_modal\",\"kind\":\"Any\",\"default\":0},{\"name\":\"close_modal\",\"kind\":\"Any\",\"default\":0}]}]}};\n",
       "  var render_items = [{\"docid\":\"7d83969f-ce8e-4644-8d85-438216ba51e8\",\"roots\":{\"p1082\":\"dc4e6dad-07e4-4479-af51-41f2fe6823b8\"},\"root_ids\":[\"p1082\"]}];\n",
       "  var docs = Object.values(docs_json)\n",
       "  if (!docs) {\n",
       "    return\n",
       "  }\n",
       "  const py_version = docs[0].version.replace('rc', '-rc.').replace('.dev', '-dev.')\n",
       "  const is_dev = py_version.indexOf(\"+\") !== -1 || py_version.indexOf(\"-\") !== -1\n",
       "  function embed_document(root) {\n",
       "    var Bokeh = get_bokeh(root)\n",
       "    Bokeh.embed.embed_items_notebook(docs_json, render_items);\n",
       "    for (const render_item of render_items) {\n",
       "      for (const root_id of render_item.root_ids) {\n",
       "\tconst id_el = document.getElementById(root_id)\n",
       "\tif (id_el.children.length && (id_el.children[0].className === 'bk-root')) {\n",
       "\t  const root_el = id_el.children[0]\n",
       "\t  root_el.id = root_el.id + '-rendered'\n",
       "\t}\n",
       "      }\n",
       "    }\n",
       "  }\n",
       "  function get_bokeh(root) {\n",
       "    if (root.Bokeh === undefined) {\n",
       "      return null\n",
       "    } else if (root.Bokeh.version !== py_version && !is_dev) {\n",
       "      if (root.Bokeh.versions === undefined || !root.Bokeh.versions.has(py_version)) {\n",
       "\treturn null\n",
       "      }\n",
       "      return root.Bokeh.versions.get(py_version);\n",
       "    } else if (root.Bokeh.version === py_version) {\n",
       "      return root.Bokeh\n",
       "    }\n",
       "    return null\n",
       "  }\n",
       "  function is_loaded(root) {\n",
       "    var Bokeh = get_bokeh(root)\n",
       "    return (Bokeh != null && Bokeh.Panel !== undefined)\n",
       "  }\n",
       "  if (is_loaded(root)) {\n",
       "    embed_document(root);\n",
       "  } else {\n",
       "    var attempts = 0;\n",
       "    var timer = setInterval(function(root) {\n",
       "      if (is_loaded(root)) {\n",
       "        clearInterval(timer);\n",
       "        embed_document(root);\n",
       "      } else if (document.readyState == \"complete\") {\n",
       "        attempts++;\n",
       "        if (attempts > 200) {\n",
       "          clearInterval(timer);\n",
       "\t  var Bokeh = get_bokeh(root)\n",
       "\t  if (Bokeh == null || Bokeh.Panel == null) {\n",
       "            console.warn(\"Panel: ERROR: Unable to run Panel code because Bokeh or Panel library is missing\");\n",
       "\t  } else {\n",
       "\t    console.warn(\"Panel: WARNING: Attempting to render but not all required libraries could be resolved.\")\n",
       "\t    embed_document(root)\n",
       "\t  }\n",
       "        }\n",
       "      }\n",
       "    }, 25, root)\n",
       "  }\n",
       "})(window);</script>"
      ],
      "text/plain": [
       ":NdOverlay   [Variable]\n",
       "   :Scatter   [epoch]   (value)"
      ]
     },
     "execution_count": 14,
     "metadata": {
      "application/vnd.holoviews_exec.v0+json": {
       "id": "p1082"
      }
     },
     "output_type": "execute_result"
    }
   ],
   "source": [
    "model.plot_loss(fit)"
   ]
  },
  {
   "cell_type": "code",
   "execution_count": null,
   "metadata": {},
   "outputs": [],
   "source": []
  }
 ],
 "metadata": {
  "kernelspec": {
   "display_name": "Python 3",
   "language": "python",
   "name": "python3"
  },
  "language_info": {
   "codemirror_mode": {
    "name": "ipython",
    "version": 3
   },
   "file_extension": ".py",
   "mimetype": "text/x-python",
   "name": "python",
   "nbconvert_exporter": "python",
   "pygments_lexer": "ipython3",
   "version": "3.10.11"
  },
  "orig_nbformat": 4
 },
 "nbformat": 4,
 "nbformat_minor": 2
}
