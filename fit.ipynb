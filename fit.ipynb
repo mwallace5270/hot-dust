{
 "cells": [
  {
   "cell_type": "markdown",
   "metadata": {},
   "source": [
    "# Fit the Model to Training Data"
   ]
  },
  {
   "cell_type": "markdown",
   "metadata": {},
   "source": [
    "## Setup"
   ]
  },
  {
   "cell_type": "code",
   "execution_count": null,
   "metadata": {},
   "outputs": [],
   "source": [
    "from importlib import reload\n",
    "\n",
    "import numpy as np\n",
    "import tensorflow as tf\n",
    "\n",
    "from hot_dust import preprocess, model"
   ]
  },
  {
   "cell_type": "code",
   "execution_count": null,
   "metadata": {},
   "outputs": [],
   "source": [
    "# \"reload\" to get changes in preprocess.py without restarting the kernel\n",
    "reload(preprocess)\n",
    "reload(model)\n",
    "from hot_dust.preprocess import prepare_training_data, split_training_data\n",
    "from hot_dust.model import to_tensorflow, compile, pretraining"
   ]
  },
  {
   "cell_type": "markdown",
   "metadata": {},
   "source": [
    "### Parameters"
   ]
  },
  {
   "cell_type": "code",
   "execution_count": null,
   "metadata": {},
   "outputs": [],
   "source": [
    "epochs = 500  # Max 500\n",
    "batch_size = 64\n",
    "buffer_size = 10 * batch_size\n",
    "\n",
    "ds = prepare_training_data()\n",
    "train, validate, test = to_tensorflow(split_training_data(ds))\n",
    "\n",
    "train = train.shuffle(buffer_size).batch(batch_size)\n",
    "validate = validate.batch(batch_size).cache()"
   ]
  },
  {
   "cell_type": "code",
   "execution_count": null,
   "metadata": {},
   "outputs": [],
   "source": [
    "layer = pretraining(dataset=test)\n",
    "network = compile(normalization=layer)\n",
    "network.summary()"
   ]
  },
  {
   "cell_type": "markdown",
   "metadata": {},
   "source": [
    "### Fitting"
   ]
  },
  {
   "cell_type": "code",
   "execution_count": null,
   "metadata": {},
   "outputs": [],
   "source": [
    "early_stopping = tf.keras.callbacks.EarlyStopping(\n",
    "    monitor=\"val_loss\",\n",
    "    patience=20,\n",
    "    verbose=1,\n",
    ")\n",
    "\n",
    "fit = network.fit(\n",
    "    train,\n",
    "    epochs=epochs,\n",
    "    validation_data=validate,\n",
    "    verbose=2,\n",
    "    callbacks=[early_stopping],\n",
    ")\n",
    "\n",
    "network.save(\"data/network\")\n",
    "fit = {\"epoch\": fit.epoch, **fit.history}\n",
    "np.savez(\"data/fit.npz\", fit)"
   ]
  },
  {
   "cell_type": "markdown",
   "metadata": {},
   "source": [
    "### Training and Validation Losses"
   ]
  },
  {
   "cell_type": "code",
   "execution_count": null,
   "metadata": {},
   "outputs": [],
   "source": [
    "model.plot_loss(fit)"
   ]
  },
  {
   "cell_type": "code",
   "execution_count": null,
   "metadata": {},
   "outputs": [],
   "source": []
  }
 ],
 "metadata": {
  "kernelspec": {
   "display_name": "hot-dust",
   "language": "python",
   "name": "hot-dust"
  },
  "language_info": {
   "codemirror_mode": {
    "name": "ipython",
    "version": 3
   },
   "file_extension": ".py",
   "mimetype": "text/x-python",
   "name": "python",
   "nbconvert_exporter": "python",
   "pygments_lexer": "ipython3",
   "version": "3.10.13"
  }
 },
 "nbformat": 4,
 "nbformat_minor": 4
}
