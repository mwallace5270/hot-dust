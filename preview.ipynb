{
 "cells": [
  {
   "cell_type": "markdown",
   "metadata": {},
   "source": [
    "Summary of Predictor and Response Variables"
   ]
  },
  {
   "cell_type": "markdown",
   "metadata": {},
   "source": [
    "Setup"
   ]
  },
  {
   "cell_type": "code",
   "execution_count": null,
   "metadata": {},
   "outputs": [],
   "source": [
    "import importlib\n",
    "from hot_dust import preprocess "
   ]
  },
  {
   "cell_type": "code",
   "execution_count": null,
   "metadata": {},
   "outputs": [],
   "source": [
    "ds = preprocess.prepare_training_data()\n",
    "ds "
   ]
  },
  {
   "cell_type": "code",
   "execution_count": null,
   "metadata": {},
   "outputs": [],
   "source": [
    "# Read in the data to obtain the BTS values\n",
    "btd_ds = ds['viirs_bts']  \n",
    "# Define the bands \n",
    "M14_band = btd_ds[0] \n",
    "M15_band = btd_ds[1]\n",
    "M16_band = btd_ds[-1] \n",
    "# Subtract the bands to get the BTD bands\n",
    "BTD14_15 = M14_band-M15_band \n",
    "BTD14_16 = M14_band-M16_band \n",
    "BTD15_16 = M15_band-M16_band "
   ]
  },
  {
   "cell_type": "markdown",
   "metadata": {},
   "source": [
    "Predictor Values"
   ]
  },
  {
   "cell_type": "code",
   "execution_count": null,
   "metadata": {},
   "outputs": [],
   "source": [
    "preprocess.feature_histogram(ds[\"spress\"])"
   ]
  },
  {
   "cell_type": "code",
   "execution_count": null,
   "metadata": {},
   "outputs": [],
   "source": [
    "preprocess.feature_histogram(ds[\"solar_zenith_angle\"])"
   ]
  },
  {
   "cell_type": "code",
   "execution_count": null,
   "metadata": {},
   "outputs": [],
   "source": [
    "preprocess.feature_histogram(ds[\"viewing_zenith_angle\"])"
   ]
  },
  {
   "cell_type": "code",
   "execution_count": null,
   "metadata": {},
   "outputs": [],
   "source": [
    "preprocess.feature_histogram(ds[\"relative_azimuth_angle\"])"
   ]
  },
  {
   "cell_type": "code",
   "execution_count": null,
   "metadata": {},
   "outputs": [],
   "source": [
    "preprocess.feature_histogram(ds[\"viirs_bts\"])"
   ]
  },
  {
   "cell_type": "code",
   "execution_count": null,
   "metadata": {},
   "outputs": [],
   "source": [
    "preprocess.feature_histogram(ds[\"ts\"])"
   ]
  },
  {
   "cell_type": "code",
   "execution_count": null,
   "metadata": {},
   "outputs": [],
   "source": [
    "import numpy as np\n",
    "solzen_ds = ds[\"solar_zenith_angle\"] \n",
    "cos_solzen=np.cos(np.radians(solzen_ds))   \n",
    "\n",
    "preprocess.feature_histogram(cos_solzen)"
   ]
  },
  {
   "cell_type": "markdown",
   "metadata": {},
   "source": [
    "Response Variable"
   ]
  },
  {
   "cell_type": "code",
   "execution_count": null,
   "metadata": {},
   "outputs": [],
   "source": [
    "preprocess.feature_histogram(ds[\"dust_optical_thickness\"])"
   ]
  },
  {
   "cell_type": "markdown",
   "metadata": {},
   "source": [
    "Predictors v. Response"
   ]
  },
  {
   "cell_type": "markdown",
   "metadata": {},
   "source": [
    "BTD Histograms"
   ]
  },
  {
   "cell_type": "code",
   "execution_count": null,
   "metadata": {},
   "outputs": [],
   "source": [
    "preprocess.feature_histogram(BTD14_15)"
   ]
  },
  {
   "cell_type": "code",
   "execution_count": null,
   "metadata": {},
   "outputs": [],
   "source": [
    "preprocess.feature_histogram(BTD14_16)"
   ]
  },
  {
   "cell_type": "code",
   "execution_count": null,
   "metadata": {},
   "outputs": [],
   "source": [
    "preprocess.feature_histogram(BTD15_16)"
   ]
  },
  {
   "cell_type": "markdown",
   "metadata": {},
   "source": [
    "Heat Maps"
   ]
  },
  {
   "cell_type": "code",
   "execution_count": null,
   "metadata": {},
   "outputs": [],
   "source": [
    "preprocess.heat_map(ds['solar_zenith_angle'])"
   ]
  },
  {
   "cell_type": "code",
   "execution_count": 2,
   "metadata": {},
   "outputs": [
    {
     "ename": "NameError",
     "evalue": "name 'X_test' is not defined",
     "output_type": "error",
     "traceback": [
      "\u001b[1;31m---------------------------------------------------------------------------\u001b[0m",
      "\u001b[1;31mNameError\u001b[0m                                 Traceback (most recent call last)",
      "Cell \u001b[1;32mIn[2], line 5\u001b[0m\n\u001b[0;32m      2\u001b[0m \u001b[39mfrom\u001b[39;00m \u001b[39mhot_dust\u001b[39;00m \u001b[39mimport\u001b[39;00m preprocess\n\u001b[0;32m      4\u001b[0m preprocess\u001b[39m.\u001b[39msplit_training_data()\n\u001b[1;32m----> 5\u001b[0m X_test \n\u001b[0;32m      6\u001b[0m y_test \n\u001b[0;32m      9\u001b[0m \u001b[39m# Preview the test subset\u001b[39;00m\n",
      "\u001b[1;31mNameError\u001b[0m: name 'X_test' is not defined"
     ]
    }
   ],
   "source": [
    "import importlib\n",
    "from hot_dust import preprocess\n",
    "\n",
    "preprocess.split_training_data()\n",
    "X_test \n",
    "y_test \n",
    "\n",
    "\n",
    "# Preview the test subset\n",
    "pre_test_len = 1000 # size of the test split that is less than 10% of the total data \n",
    "X_test_pre = X_test[:test_preview_len]\n",
    "y_test_preview = y_test[:test_preview_len]\n",
    "\n",
    "preprocess.feature_histogram(X_test_pre)\n",
    "\n",
    "\n"
   ]
  },
  {
   "cell_type": "markdown",
   "metadata": {},
   "source": [
    "mse \n",
    "multivariant regrssien \n",
    "11 inputs \n",
    "visulazations to track model practive  \n",
    "btd histogram  \n",
    "2d histograms  \n",
    "purine version approach \n",
    "    - there is no way to give weight to the inputs/ variables \n",
    "    - normalization \n",
    "    - 1 absolute \n",
    "    - 3 bands  \n",
    "\n",
    "\n"
   ]
  }
 ],
 "metadata": {
  "kernelspec": {
   "display_name": "hot-dust-4xKDpqSV-py3.11",
   "language": "python",
   "name": "python3"
  },
  "language_info": {
   "codemirror_mode": {
    "name": "ipython",
    "version": 3
   },
   "file_extension": ".py",
   "mimetype": "text/x-python",
   "name": "python",
   "nbconvert_exporter": "python",
   "pygments_lexer": "ipython3",
   "version": "3.10.11"
  },
  "orig_nbformat": 4
 },
 "nbformat": 4,
 "nbformat_minor": 2
}
