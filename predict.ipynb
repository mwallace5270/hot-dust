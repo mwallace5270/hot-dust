{
 "cells": [
  {
   "cell_type": "markdown",
   "id": "adfabafb-f447-4284-a495-2791147acc41",
   "metadata": {},
   "source": [
    "# Run full Granual Predictions"
   ]
  },
  {
   "cell_type": "markdown",
   "id": "8cd3cc55-8cb2-4408-bd18-90cb6a83ca1d",
   "metadata": {},
   "source": [
    "What needs to happen:\n",
    "- ~~function to temporally and spatially interpolate MERRA2~~\n",
    "- ~~function to read MERRA2 with interpolation~~\n",
    "  - PS = surface_pressure\n",
    "  - T10M = 10-meter_air_temperature (Andy will investigate)\n",
    "  - TO3 = total_column_ozone\n",
    "  - TQV = total_precipitable_water_vapor\n",
    "- ~~function to read VNP02MOD~~\n",
    "  - in group \"observation_data\"\n",
    "    - M14 (for center wavelengths at 8500 nm)\n",
    "    - M15 (for center wavelengths at 10800 nm)\n",
    "    - M16 (for center wavelengths at 12000 nm)\n",
    "- ~~function to read VNP03MOD~~\n",
    "  - in group \"geolocation_data\"\n",
    "    - sensor_azimuth\n",
    "    - sensor_zenith\n",
    "    - solar_azimuth\n",
    "    - solar_zenith\n",
    "- combine above for model inputs\n",
    "- check if there are any transformations that need to be made on the inputs before sening them though the model\n",
    "- load the saved model (see tensorflow.keras.models.load_model as in evaluate.ipynb)\n",
    "- call the saved model's \"predict\" method on the combined inputs"
   ]
  },
  {
   "cell_type": "markdown",
   "id": "08b3bcd0-a1f9-49d6-a5cf-5ac7116ce025",
   "metadata": {},
   "source": [
    "## Setup"
   ]
  },
  {
   "cell_type": "code",
   "execution_count": null,
   "id": "a17efda0-73c0-4bbd-8eef-484211fa8ff5",
   "metadata": {
    "tags": []
   },
   "outputs": [],
   "source": [
    "from pathlib import Path\n",
    "from importlib import reload\n",
    "\n",
    "import xarray as xr\n",
    "import numpy as np\n",
    "import matplotlib.pyplot as plt\n",
    "\n",
    "from hot_dust import preprocess, DATADIR"
   ]
  },
  {
   "cell_type": "code",
   "execution_count": null,
   "id": "d394bad6-f6f3-4a52-81a9-e7a677eae5b2",
   "metadata": {},
   "outputs": [],
   "source": [
    "preprocess = reload(preprocess)"
   ]
  },
  {
   "cell_type": "markdown",
   "id": "4e4a8a3b-7bd2-46e7-898d-1117ba395295",
   "metadata": {},
   "source": [
    "## Load the VIIRS Granules"
   ]
  },
  {
   "cell_type": "code",
   "execution_count": null,
   "id": "5c5e09a6-b572-4a36-8962-80f36eca2d85",
   "metadata": {},
   "outputs": [],
   "source": [
    "# granules\n",
    "vnp02 = \"VNP02MOD.A2020168.1448.002.2021127084950.nc\"\n",
    "vnp03 = \"VNP03MOD.A2020168.1448.002.2021125194020.nc\""
   ]
  },
  {
   "cell_type": "code",
   "execution_count": null,
   "id": "6c8ce71f-ce04-423a-b783-7e205a2d85cf",
   "metadata": {},
   "outputs": [],
   "source": [
    "# open WITHOUT mask_and_scale to access observations as integers (ignore scale and offset)\n",
    "open_vnp02_int = xr.open_dataset(\n",
    "    DATADIR / \"granules\" / vnp02,\n",
    "    group=\"observation_data\",\n",
    "    mask_and_scale=False,\n",
    ")\n",
    "\n",
    "# open WITH mask_and_scale to access LUT values as floats (with NaNs)\n",
    "open_vnp02 = xr.open_dataset(\n",
    "    DATADIR / \"granules\" / vnp02,\n",
    "    group=\"observation_data\",\n",
    ")\n",
    "\n",
    "# create new xr.Dataset to contain viirs_bts\n",
    "vnp02_variables = xr.Dataset()\n",
    "for item in [\"M14\", \"M15\", \"M16\"]:\n",
    "    vnp02_variables[item + \"_bt\"] = open_vnp02[item + \"_brightness_temperature_lut\"][open_vnp02_int[item]]\n",
    "    long_name = vnp02_variables[f\"{item}_bt\"].attrs[\"long_name\"]\n",
    "    vnp02_variables[item + \"_bt\"].attrs[\"long_name\"] = long_name.replace(\" lookup table\", \"\")"
   ]
  },
  {
   "cell_type": "code",
   "execution_count": null,
   "id": "30424444-8656-4a79-9719-ba37139865de",
   "metadata": {},
   "outputs": [],
   "source": [
    "# open (just open, no tricks here)\n",
    "open_vnp03 = xr.open_dataset(\n",
    "    DATADIR / \"granules\" / vnp03,\n",
    "    group=\"geolocation_data\",\n",
    ")\n",
    "\n",
    "# select the relavant variables\n",
    "vnp03_variables = open_vnp03[[\"sensor_zenith\", \"solar_zenith\"]]\n",
    "\n",
    "# compute relative azimuth\n",
    "array = np.abs(open_vnp03[\"solar_azimuth\"] - open_vnp03[\"sensor_azimuth\"])\n",
    "vnp03_variables[\"relative_azimuth\"] = array.where(array <= 180, 360 - array)"
   ]
  },
  {
   "cell_type": "code",
   "execution_count": null,
   "id": "7a6883fe-bfac-43ad-89a5-c0bd00970b00",
   "metadata": {},
   "outputs": [],
   "source": [
    "# merge the model imputs\n",
    "vnp02_vnp03 = xr.merge([vnp02_variables, vnp03_variables])\n",
    "vnp02_vnp03"
   ]
  },
  {
   "cell_type": "markdown",
   "id": "da2c87c4",
   "metadata": {},
   "source": [
    "## Extract MERRA-2 Input Variables"
   ]
  },
  {
   "cell_type": "markdown",
   "id": "d41e95d2-ad59-453f-b386-d67556ce7a18",
   "metadata": {},
   "source": [
    "The \"raw\" cell below has code to read the MERRA2 files directly from AWS, so it will not run locally. The output has been commited to DVC, however, so it does not need to be re-run unless the preprocessing code changes."
   ]
  },
  {
   "cell_type": "raw",
   "id": "21203ca9-00ae-4d09-8112-fac9f03ff61b",
   "metadata": {
    "tags": []
   },
   "source": [
    "import earthaccess\n",
    "from tqdm.notebook import tqdm # 5/5 [00:55<00:00, 10.99s/it]\n",
    "\n",
    "auth = earthaccess.login(strategy=\"netrc\", persist=True)\n",
    "fs = earthaccess.get_s3fs_session(\"GES_DISC\")\n",
    "granules = DATADIR / \"granules\"\n",
    "for item in tqdm(list(granules.glob(\"VNP03*\"))):\n",
    "    ds = preprocess.get_merra_variables(item, fs)\n",
    "    ds.to_netcdf(DATADIR / \"merra\" / item.name)"
   ]
  },
  {
   "cell_type": "code",
   "execution_count": null,
   "id": "f616c8e7",
   "metadata": {},
   "outputs": [],
   "source": [
    "# Merge all the merra files\n",
    "merra_variables = xr.open_dataset(DATADIR / 'merra' / vnp03) \n",
    "\n",
    "# Drop the coordinates \n",
    "merra_variables = merra_variables.drop(['time', 'lon', 'lat'])\n",
    "\n",
    "# Divide the MERRA2 pressure by 100 to get it in the right units\n",
    "merra_variables['PS'] = merra_variables['PS']/100 \n",
    "merra_variables"
   ]
  },
  {
   "cell_type": "code",
   "execution_count": null,
   "id": "363e754f-d613-4c02-8105-09a83e0e69f1",
   "metadata": {},
   "outputs": [],
   "source": [
    "# Merge viirs and merra variables\n",
    "variables_merged = xr.merge([vnp02_vnp03, merra_variables]) "
   ]
  },
  {
   "cell_type": "markdown",
   "id": "6699149a-8fc9-4fa3-a10a-81fb4e66644b",
   "metadata": {},
   "source": [
    "## 2D Plot of Input Variables"
   ]
  },
  {
   "cell_type": "code",
   "execution_count": null,
   "id": "9cfe8167",
   "metadata": {},
   "outputs": [],
   "source": [
    "# M14 Map (red)\n",
    "plt.imshow(variables_merged[\"M14_bt\"], cmap=\"Reds\", interpolation=\"none\")\n",
    "# Colorbar and lables\n",
    "cb = plt.colorbar(shrink=0.5)\n",
    "plt.show()  "
   ]
  },
  {
   "cell_type": "code",
   "execution_count": null,
   "id": "6a813bac",
   "metadata": {},
   "outputs": [],
   "source": [
    "# M15 Map (green)\n",
    "plt.imshow(variables_merged[\"M15_bt\"], cmap=\"Greens\", interpolation=\"none\")\n",
    "# Colorbar and lables\n",
    "cb = plt.colorbar(shrink=0.5)\n",
    "plt.show()"
   ]
  },
  {
   "cell_type": "code",
   "execution_count": null,
   "id": "85a507f4",
   "metadata": {},
   "outputs": [],
   "source": [
    "# M16 Map (blue)\n",
    "plt.imshow(variables_merged[\"M16_bt\"], cmap=\"Blues\", interpolation=\"none\")\n",
    "# Colorbar and lables\n",
    "cb = plt.colorbar(shrink=0.5)\n",
    "plt.show()"
   ]
  },
  {
   "cell_type": "code",
   "execution_count": null,
   "id": "9e7eaffe-b9c7-4dfb-beb8-7345a962a3fd",
   "metadata": {},
   "outputs": [],
   "source": [
    "# Solar zenith angle\n",
    "plt.imshow(variables_merged[\"sensor_zenith\"], cmap=\"Grays\")\n",
    "# Colorbar and lables\n",
    "cb = plt.colorbar(shrink=0.5)\n",
    "plt.show()"
   ]
  },
  {
   "cell_type": "code",
   "execution_count": null,
   "id": "c5a2732e-60de-4c77-a35c-29be4ca8c4e2",
   "metadata": {},
   "outputs": [],
   "source": [
    "# Solar zenith angle\n",
    "plt.imshow(variables_merged[\"PS\"], cmap=\"Grays\")\n",
    "# Colorbar and lables\n",
    "cb = plt.colorbar(shrink=0.5)\n",
    "plt.show()"
   ]
  },
  {
   "cell_type": "code",
   "execution_count": null,
   "id": "427ffc04-e9b8-417b-847f-6e87da2103d7",
   "metadata": {},
   "outputs": [],
   "source": [
    "# Solar zenith angle\n",
    "plt.imshow(variables_merged[\"TQV\"], cmap=\"Grays\")\n",
    "# Colorbar and lables\n",
    "cb = plt.colorbar(shrink=0.5)\n",
    "plt.show()"
   ]
  },
  {
   "cell_type": "code",
   "execution_count": null,
   "id": "c9c348ea-d3c3-4b22-8086-17dbad316fb2",
   "metadata": {},
   "outputs": [],
   "source": [
    "# Solar zenith angle\n",
    "plt.imshow(variables_merged[\"WS\"], cmap=\"Grays\")\n",
    "# Colorbar and lables\n",
    "cb = plt.colorbar(shrink=0.5)\n",
    "plt.show()"
   ]
  },
  {
   "cell_type": "code",
   "execution_count": null,
   "id": "2f35c4c4-0b70-4969-abdc-b7bf36df0bc7",
   "metadata": {},
   "outputs": [],
   "source": [
    "# Solar zenith angle\n",
    "plt.imshow(variables_merged[\"TS\"], cmap=\"Grays\")\n",
    "# Colorbar and lables\n",
    "cb = plt.colorbar(shrink=0.5)\n",
    "plt.show()"
   ]
  },
  {
   "cell_type": "markdown",
   "id": "e2946dc0-093f-45a4-8974-5fd7760d8a4c",
   "metadata": {},
   "source": [
    "## Transform to Model Input"
   ]
  },
  {
   "cell_type": "code",
   "execution_count": null,
   "id": "bd5be894-1dd0-4f9c-9d47-b27ed0365d29",
   "metadata": {},
   "outputs": [],
   "source": [
    "# the features list must give the same data as the features list in hot_dust.preprocess.prepare_training_data\n",
    "features = [\n",
    "#    \"solar_zenith\",\n",
    "    \"sensor_zenith\",\n",
    "#    \"relative_azimuth\",\n",
    "    \"PS\",\n",
    "    \"TQV\",\n",
    "    \"TO3\",\n",
    "    \"WS\",\n",
    "    \"TS\",\n",
    "    \"M14_bt\",\n",
    "    \"M15_bt\",\n",
    "    \"M16_bt\",\n",
    "]\n",
    "\n",
    "# Concatenate the feature variables, in the order above, into a 3D array\n",
    "x = variables_merged[features].to_array(\"feature\")\n",
    "# Stack number of lines and pixels to make it a 2D array with 'sample' and 'feature'\n",
    "x = x.stack({\"sample\": ('number_of_lines', 'number_of_pixels')})\n",
    "x = x.dropna(dim=\"sample\")\n",
    "x"
   ]
  },
  {
   "cell_type": "markdown",
   "id": "ee3a9db9-4820-4ba4-ad66-a16f16378043",
   "metadata": {},
   "source": [
    "## Generate Predictions"
   ]
  },
  {
   "cell_type": "code",
   "execution_count": null,
   "id": "a6b8b9e4-f010-4369-89b8-efef17d94970",
   "metadata": {},
   "outputs": [],
   "source": []
  },
  {
   "cell_type": "markdown",
   "id": "d24f068e-a972-4eb9-be14-a3d3da273604",
   "metadata": {},
   "source": [
    "## 2D Plot of Predicted Dust Optical Thickness"
   ]
  },
  {
   "cell_type": "code",
   "execution_count": null,
   "id": "aa1971cd-1ea6-408d-b422-ea570ab50d75",
   "metadata": {},
   "outputs": [],
   "source": []
  },
  {
   "cell_type": "markdown",
   "id": "a4f9aece-6834-4884-8cd7-8d33810d7281",
   "metadata": {},
   "source": [
    "## WIP / Scratch"
   ]
  },
  {
   "cell_type": "code",
   "execution_count": null,
   "id": "6472fa88-e092-45a9-8cf1-2c38494b7136",
   "metadata": {},
   "outputs": [],
   "source": [
    "xr.open_dataset(\"data/rt_nn_irdust_training_data.nc\")"
   ]
  },
  {
   "cell_type": "code",
   "execution_count": null,
   "id": "9030cf92-2bba-4e90-aa70-e8e974490965",
   "metadata": {},
   "outputs": [],
   "source": [
    "xr.open_dataset(\"data/granules/GMAO_MERRA2.20200616T140000.MET.nc\")"
   ]
  }
 ],
 "metadata": {
  "kernelspec": {
   "display_name": "hot-dust",
   "language": "python",
   "name": "hot-dust"
  },
  "language_info": {
   "codemirror_mode": {
    "name": "ipython",
    "version": 3
   },
   "file_extension": ".py",
   "mimetype": "text/x-python",
   "name": "python",
   "nbconvert_exporter": "python",
   "pygments_lexer": "ipython3",
   "version": "3.10.13"
  }
 },
 "nbformat": 4,
 "nbformat_minor": 5
}
