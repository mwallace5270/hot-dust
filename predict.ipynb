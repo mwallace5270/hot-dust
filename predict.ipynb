{
 "cells": [
  {
   "cell_type": "markdown",
   "id": "adfabafb-f447-4284-a495-2791147acc41",
   "metadata": {},
   "source": [
    "# Run full Granual Predictions"
   ]
  },
  {
   "cell_type": "markdown",
   "id": "8cd3cc55-8cb2-4408-bd18-90cb6a83ca1d",
   "metadata": {},
   "source": [
    "What needs to happen:\n",
    "- ~~function to temporally and spatially interpolate MERRA2~~\n",
    "- ~~function to read MERRA2 with interpolation~~\n",
    "  - PS = surface_pressure\n",
    "  - T10M = 10-meter_air_temperature (Andy will investigate)\n",
    "  - TO3 = total_column_ozone\n",
    "  - TQV = total_precipitable_water_vapor\n",
    "- ~~function to read VNP02MOD~~\n",
    "  - in group \"observation_data\"\n",
    "    - M14 (for center wavelengths at 8500 nm)\n",
    "    - M15 (for center wavelengths at 10800 nm)\n",
    "    - M16 (for center wavelengths at 12000 nm)\n",
    "- ~~function to read VNP03MOD~~\n",
    "  - in group \"geolocation_data\"\n",
    "    - sensor_azimuth\n",
    "    - sensor_zenith\n",
    "    - solar_azimuth\n",
    "    - solar_zenith\n",
    "- combine above for model inputs\n",
    "- check if there are any transformations that need to be made on the inputs before sening them though the model\n",
    "- load the saved model (see tensorflow.keras.models.load_model as in evaluate.ipynb)\n",
    "- call the saved model's \"predict\" method on the combined inputs"
   ]
  },
  {
   "cell_type": "markdown",
   "id": "08b3bcd0-a1f9-49d6-a5cf-5ac7116ce025",
   "metadata": {},
   "source": [
    "## Setup"
   ]
  },
  {
   "cell_type": "code",
   "execution_count": null,
   "id": "a17efda0-73c0-4bbd-8eef-484211fa8ff5",
   "metadata": {
    "tags": []
   },
   "outputs": [],
   "source": [
    "from pathlib import Path\n",
    "\n",
    "import xarray as xr\n",
    "import numpy as np\n",
    "import matplotlib.pyplot as plt\n",
    "\n",
    "from hot_dust import preprocess, DATADIR"
   ]
  },
  {
   "cell_type": "code",
   "execution_count": null,
   "id": "b6ddd0e1-b7e6-4de3-81df-a8f04846d711",
   "metadata": {},
   "outputs": [],
   "source": [
    "open_vnp02 = xr.open_dataset(\n",
    "    \"data/granules/VNP02MOD.A2020168.1448.002.2021127084950.nc\",\n",
    "    group=\"observation_data\",\n",
    "    mask_and_scale=False,\n",
    ")\n",
    "\n",
    "# Access the relavant variables\n",
    "vnp02_variables = open_vnp02[\n",
    "    [\n",
    "        \"M14\",\n",
    "        \"M14_brightness_temperature_lut\",\n",
    "        \"M15\",\n",
    "        \"M15_brightness_temperature_lut\",\n",
    "        \"M16\",\n",
    "        \"M16_brightness_temperature_lut\",\n",
    "    ]\n",
    "]\n",
    "open_vnp02\n",
    "\n",
    "# call xr where and fill values less than oe equal to 65527\n",
    "# xr stack and unstack 3D to 2D"
   ]
  },
  {
   "cell_type": "code",
   "execution_count": null,
   "id": "30424444-8656-4a79-9719-ba37139865de",
   "metadata": {},
   "outputs": [],
   "source": [
    "open_vnp03 = xr.open_dataset(\n",
    "    \"data/granules/VNP03MOD.A2020168.1448.002.2021125194020.nc\",\n",
    "    group=\"geolocation_data\",\n",
    ")\n",
    "\n",
    "# Access the relavant variables\n",
    "vnp03_variables = open_vnp03[\n",
    "    [\"sensor_azimuth\", \"sensor_zenith\", \"solar_azimuth\", \"solar_zenith\"]\n",
    "]"
   ]
  },
  {
   "cell_type": "code",
   "execution_count": null,
   "id": "7a6883fe-bfac-43ad-89a5-c0bd00970b00",
   "metadata": {},
   "outputs": [],
   "source": [
    "# Merge the model imputs\n",
    "vnp02_vnp03 = xr.merge([vnp02_variables, vnp03_variables])\n",
    "vnp02_vnp03"
   ]
  },
  {
   "cell_type": "code",
   "execution_count": null,
   "id": "8551c44d-ef3c-4a3a-ad65-f758443c31b6",
   "metadata": {},
   "outputs": [],
   "source": [
    "# Access the relavant variables\n",
    "M14_ds = vnp02_vnp03[\"M14\"]  # thermal infared wave length\n",
    "M14_BTL_ds = vnp02_vnp03[\"M14_brightness_temperature_lut\"]\n",
    "M15_ds = vnp02_vnp03[\"M15\"]  # thermal infared wave length\n",
    "M15_BTL_ds = vnp02_vnp03[\"M15_brightness_temperature_lut\"]\n",
    "M16_ds = vnp02_vnp03[\"M16\"]  # thermal infared wave length\n",
    "M16_BTL_ds = vnp02_vnp03[\"M16_brightness_temperature_lut\"]\n",
    "\n",
    "# Convert to brightness temperature in K\n",
    "M14_scaled = vnp02_vnp03[\"M14_brightness_temperature_lut\"][vnp02_vnp03[\"M14\"]]\n",
    "valid_min = vnp02_vnp03[\"M14_brightness_temperature_lut\"].attrs[\"valid_min\"]\n",
    "valid_max = vnp02_vnp03[\"M14_brightness_temperature_lut\"].attrs[\"valid_max\"]\n",
    "M14_scaled = M14_scaled.where((M14_scaled <= valid_max) & (M14_scaled >= valid_min))\n",
    "\n",
    "M15_scaled = vnp02_vnp03[\"M15_brightness_temperature_lut\"][vnp02_vnp03[\"M15\"]]\n",
    "valid_min = vnp02_vnp03[\"M15_brightness_temperature_lut\"].attrs[\"valid_min\"]\n",
    "valid_max = vnp02_vnp03[\"M15_brightness_temperature_lut\"].attrs[\"valid_max\"]\n",
    "M15_scaled = M15_scaled.where((M15_scaled <= valid_max) & (M15_scaled >= valid_min))\n",
    "\n",
    "M16_scaled = vnp02_vnp03[\"M16_brightness_temperature_lut\"][vnp02_vnp03[\"M16\"]]\n",
    "valid_min = vnp02_vnp03[\"M16_brightness_temperature_lut\"].attrs[\"valid_min\"]\n",
    "valid_max = vnp02_vnp03[\"M16_brightness_temperature_lut\"].attrs[\"valid_max\"]\n",
    "M16_scaled = M16_scaled.where((M16_scaled <= valid_max) & (M16_scaled >= valid_min))"
   ]
  },
  {
   "cell_type": "markdown",
   "id": "da2c87c4",
   "metadata": {},
   "source": [
    "## Extract MERRA-2 Input Variables\n",
    "\n"
   ]
  },
  {
   "cell_type": "raw",
   "id": "5740d201-e8a4-44a6-bc5f-923eff5cee9b",
   "metadata": {
    "tags": []
   },
   "source": [
    "%%time\n",
    "# opendap on station101, vscode timing == 7m 15.6s\n",
    "# s3 on openscapes.2i2c.cloud, magics time == 1min 11s\n",
    "\n",
    "# import earthaccess\n",
    "\n",
    "# auth = earthaccess.login(strategy=\"netrc\", persist=True)\n",
    "# fs = earthaccess.get_s3fs_session(\"GES_DISC\")\n",
    "fs = None\n",
    "granule = DATADIR / \"granules\"\n",
    "for item in granule.glob(\"VNP03*\"):\n",
    "    ds = preprocess.get_merra_variables(item, fs)\n",
    "    ds.to_netcdf(DATADIR / \"merra\" / item.name)"
   ]
  },
  {
   "cell_type": "markdown",
   "id": "6699149a-8fc9-4fa3-a10a-81fb4e66644b",
   "metadata": {},
   "source": [
    "## 2D Plot of Input Variables"
   ]
  },
  {
   "cell_type": "code",
   "execution_count": null,
   "id": "9cfe8167",
   "metadata": {},
   "outputs": [],
   "source": [
    "# M14 Map\n",
    "plt.imshow(M14_scaled, cmap=\"jet\")\n",
    "# Colorbar and lables\n",
    "cb = plt.colorbar(shrink=0.5)\n",
    "plt.show()  # TODO mask fill values"
   ]
  },
  {
   "cell_type": "code",
   "execution_count": null,
   "id": "6a813bac",
   "metadata": {},
   "outputs": [],
   "source": [
    "# M15 Map\n",
    "plt.imshow(M15_scaled, cmap=\"jet\")\n",
    "# Colorbar and lables\n",
    "cb = plt.colorbar(shrink=0.5)\n",
    "plt.show()"
   ]
  },
  {
   "cell_type": "code",
   "execution_count": null,
   "id": "85a507f4",
   "metadata": {},
   "outputs": [],
   "source": [
    "# M16 Map\n",
    "plt.imshow(M16_scaled, cmap=\"jet\")\n",
    "# Colorbar and lables\n",
    "cb = plt.colorbar(shrink=0.5)\n",
    "plt.show()"
   ]
  },
  {
   "cell_type": "markdown",
   "id": "d24f068e-a972-4eb9-be14-a3d3da273604",
   "metadata": {},
   "source": [
    "## 2D Plot of Predicted Dust Optical Thickness"
   ]
  },
  {
   "cell_type": "markdown",
   "id": "a4f9aece-6834-4884-8cd7-8d33810d7281",
   "metadata": {},
   "source": [
    "## WIP / Scratch"
   ]
  },
  {
   "cell_type": "code",
   "execution_count": null,
   "id": "6472fa88-e092-45a9-8cf1-2c38494b7136",
   "metadata": {},
   "outputs": [],
   "source": [
    "xr.open_dataset(\"data/rt_nn_irdust_training_data.nc\")"
   ]
  },
  {
   "cell_type": "code",
   "execution_count": null,
   "id": "9030cf92-2bba-4e90-aa70-e8e974490965",
   "metadata": {},
   "outputs": [],
   "source": [
    "xr.open_dataset(\"data/granules/GMAO_MERRA2.20200616T140000.MET.nc\")"
   ]
  }
 ],
 "metadata": {
  "kernelspec": {
   "display_name": "hot-dust",
   "language": "python",
   "name": "hot-dust"
  },
  "language_info": {
   "codemirror_mode": {
    "name": "ipython",
    "version": 3
   },
   "file_extension": ".py",
   "mimetype": "text/x-python",
   "name": "python",
   "nbconvert_exporter": "python",
   "pygments_lexer": "ipython3",
   "version": "3.10.13"
  }
 },
 "nbformat": 4,
 "nbformat_minor": 5
}
