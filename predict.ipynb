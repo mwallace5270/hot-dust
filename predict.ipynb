{
 "cells": [
  {
   "cell_type": "markdown",
   "id": "adfabafb-f447-4284-a495-2791147acc41",
   "metadata": {},
   "source": [
    "# Run full Granual Predictions"
   ]
  },
  {
   "cell_type": "markdown",
   "id": "8cd3cc55-8cb2-4408-bd18-90cb6a83ca1d",
   "metadata": {},
   "source": [
    "What needs to happen:\n",
    "- function to temporally and spatially interpolate MERRA2 \n",
    "- function to read MERRA2 with interpolation\n",
    "  - PS = surface_pressure\n",
    "  - T10M = 10-meter_air_temperature (Andy will investigate)\n",
    "  - TO3 = total_column_ozone\n",
    "  - TQV = total_precipitable_water_vapor\n",
    "- function to read VNP02MOD\n",
    "  - observation_data\n",
    "    - M14 (for center wavelengths at 8500 nm)\n",
    "    - M15 (for center wavelengths at 10800 nm)\n",
    "    - M16 (for center wavelengths at 12000 nm)\n",
    "- function to read VNP03MOD\n",
    "  - geolocation_data\n",
    "    - sensor_azimuth\n",
    "    - sensor_zenith\n",
    "    - solar_azimuth\n",
    "    - solar_zenith\n",
    "- function to combine above for model inputs"
   ]
  },
  {
   "cell_type": "markdown",
   "id": "08b3bcd0-a1f9-49d6-a5cf-5ac7116ce025",
   "metadata": {},
   "source": [
    "## Setup"
   ]
  },
  {
   "cell_type": "code",
   "execution_count": null,
   "id": "a17efda0-73c0-4bbd-8eef-484211fa8ff5",
   "metadata": {},
   "outputs": [],
   "source": [
    "import xarray as xr"
   ]
  },
  {
   "cell_type": "markdown",
   "id": "6699149a-8fc9-4fa3-a10a-81fb4e66644b",
   "metadata": {},
   "source": [
    "## 2D Plot of Input Variables"
   ]
  },
  {
   "cell_type": "markdown",
   "id": "d24f068e-a972-4eb9-be14-a3d3da273604",
   "metadata": {},
   "source": [
    "## 2D Plot of Predicted Dust Optical Thickness"
   ]
  },
  {
   "cell_type": "markdown",
   "id": "a4f9aece-6834-4884-8cd7-8d33810d7281",
   "metadata": {},
   "source": [
    "## WIP / Scratch"
   ]
  },
  {
   "cell_type": "code",
   "execution_count": null,
   "id": "6472fa88-e092-45a9-8cf1-2c38494b7136",
   "metadata": {},
   "outputs": [],
   "source": [
    "xr.open_dataset(\"data/rt_nn_irdust_training_data.nc\")"
   ]
  },
  {
   "cell_type": "code",
   "execution_count": null,
   "id": "9030cf92-2bba-4e90-aa70-e8e974490965",
   "metadata": {},
   "outputs": [],
   "source": [
    "xr.open_dataset(\"data/granules/GMAO_MERRA2.20200616T140000.MET.nc\")"
   ]
  },
  {
   "cell_type": "code",
   "execution_count": null,
   "id": "b6ddd0e1-b7e6-4de3-81df-a8f04846d711",
   "metadata": {},
   "outputs": [],
   "source": [
    "xr.open_dataset(\"data/granules/VNP02MOD.A2020168.1448.002.2021127084950.nc\", group=\"observation_data\")"
   ]
  },
  {
   "cell_type": "code",
   "execution_count": null,
   "id": "30424444-8656-4a79-9719-ba37139865de",
   "metadata": {},
   "outputs": [],
   "source": [
    "xr.open_dataset(\"data/granules/VNP03MOD.A2020168.1448.002.2021125194020.nc\", group=\"geolocation_data\")"
   ]
  },
  {
   "cell_type": "code",
   "execution_count": null,
   "id": "ea07c988-d993-47be-b985-1f25156cbb1c",
   "metadata": {},
   "outputs": [],
   "source": []
  }
 ],
 "metadata": {
  "kernelspec": {
   "display_name": "hot-dust",
   "language": "python",
   "name": "hot-dust"
  },
  "language_info": {
   "codemirror_mode": {
    "name": "ipython",
    "version": 3
   },
   "file_extension": ".py",
   "mimetype": "text/x-python",
   "name": "python",
   "nbconvert_exporter": "python",
   "pygments_lexer": "ipython3",
   "version": "3.10.13"
  }
 },
 "nbformat": 4,
 "nbformat_minor": 5
}
