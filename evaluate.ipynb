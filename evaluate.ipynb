{
 "cells": [
  {
   "cell_type": "markdown",
   "metadata": {},
   "source": [
    "# Evaluate on Test Data"
   ]
  },
  {
   "cell_type": "markdown",
   "metadata": {},
   "source": [
    "## Setup"
   ]
  },
  {
   "cell_type": "code",
   "execution_count": null,
   "metadata": {},
   "outputs": [],
   "source": [
    "from importlib import reload\n",
    "\n",
    "import tensorflow as tf\n",
    "import numpy as np\n",
    "import matplotlib.pyplot as plt\n",
    "import hvplot.pandas\n",
    "\n",
    "\n",
    "from hot_dust import preprocess, model"
   ]
  },
  {
   "cell_type": "code",
   "execution_count": null,
   "metadata": {},
   "outputs": [],
   "source": [
    "# \"reload\" to get changes in preprocess.py without restarting the kernel\n",
    "reload(preprocess)\n",
    "reload(model)\n",
    "from hot_dust.preprocess import prepare_training_data, split_training_data\n",
    "from hot_dust.model import to_tensorflow"
   ]
  },
  {
   "cell_type": "code",
   "execution_count": null,
   "metadata": {},
   "outputs": [],
   "source": [
    "ds = prepare_training_data()\n",
    "train, validate, test = to_tensorflow(split_training_data(ds))\n",
    "batch_size = test.cardinality()\n",
    "test = test.batch(batch_size)"
   ]
  },
  {
   "cell_type": "markdown",
   "metadata": {},
   "source": [
    "## Model Summary"
   ]
  },
  {
   "cell_type": "code",
   "execution_count": null,
   "metadata": {},
   "outputs": [],
   "source": [
    "network = tf.keras.models.load_model(\"data/network\")\n",
    "network.summary()"
   ]
  },
  {
   "cell_type": "markdown",
   "metadata": {},
   "source": [
    "## Metrics"
   ]
  },
  {
   "cell_type": "code",
   "execution_count": null,
   "metadata": {},
   "outputs": [],
   "source": [
    "# Calculate metrics (.eg MSE, R2) on test data and tabulate\n",
    "\n",
    "y = np.concatenate(list(i[1] for i in test.as_numpy_iterator()))  # true values\n",
    "y_hat = network.predict(test, verbose=0).reshape((-1,))  # predicted values\n",
    "\n",
    "# Calculate the MSE\n",
    "MSE = np.square(np.subtract(y, y_hat)).mean()\n",
    "\n",
    "# Calculate R2\n",
    "mean_y = np.mean(y)  # mean of the true values\n",
    "SS_total = np.sum((y - mean_y) ** 2)  # total sum of squares\n",
    "SS_reg = np.sum((y - y_hat) ** 2)  #  sum of squares due to regression\n",
    "\n",
    "R2 = 1 - (SS_reg / SS_total)\n",
    "\n",
    "# Calculate Variance\n",
    "variance = np.var(y_hat)\n",
    "\n",
    "# Return the metrics\n",
    "print(\"Metrics: \")\n",
    "print(\"Mean Squared Error: \" + str(MSE))\n",
    "print(\"R2: \" + str(R2))\n",
    "print(\"Variance of the Predictions: \" + str(variance))"
   ]
  },
  {
   "cell_type": "markdown",
   "metadata": {},
   "source": [
    "## Plots"
   ]
  },
  {
   "cell_type": "code",
   "execution_count": null,
   "metadata": {},
   "outputs": [],
   "source": [
    "# Plot of y_hat against y, with a one-to-one line overlayed\n",
    "# plot y_hat against y\n",
    "plt.scatter(y, y_hat, alpha=0.5)\n",
    "\n",
    "# lables\n",
    "plt.xlabel(\"True Values (y)\")\n",
    "plt.ylabel(\"Predicted Values (y_hat)\")\n",
    "plt.title(\"Predicted Values v. True Values\")\n",
    "\n",
    "# one-to-one line overlay\n",
    "plt.plot([min(y), max(y)], [min(y), max(y)], color=\"red\")"
   ]
  },
  {
   "cell_type": "code",
   "execution_count": null,
   "metadata": {},
   "outputs": [],
   "source": [
    "# Plot a histogram of the residuals\n",
    "residual = y_hat - y\n",
    "num_bins = 100\n",
    "plt.hist(residual, num_bins)\n",
    "plt.title(\"Histogram of the Residuals\")"
   ]
  },
  {
   "cell_type": "code",
   "execution_count": null,
   "metadata": {},
   "outputs": [],
   "source": [
    "# Plot of the residuals against y\n",
    "plt.scatter(y, residual, alpha=0.5)\n",
    "# lables\n",
    "plt.xlabel(\"True Values (y)\")\n",
    "plt.ylabel(\"Residuals\")\n",
    "plt.title(\"Residuals v. True Values\")"
   ]
  },
  {
   "cell_type": "markdown",
   "metadata": {},
   "source": [
    "## Heat Maps "
   ]
  },
  {
   "cell_type": "code",
   "execution_count": null,
   "metadata": {},
   "outputs": [],
   "source": [
    "# Heat map of y_hat against y\n",
    "\n",
    "# create the heatmap of y_hat against y\n",
    "plt.hexbin(y, y_hat, cmap=\"viridis\")\n",
    "# set the size of the graph\n",
    "plt.axis(\"auto\")\n",
    "# lables\n",
    "plt.xlabel(\"True Values (y)\")\n",
    "plt.ylabel(\"Predicted Values (y_hat)\")\n",
    "plt.title(\"Predicted Values v. True Values\")\n",
    "# one-to-one line overlay\n",
    "plt.axline([0, 0], slope=1, color=\"red\")\n",
    "plt.colorbar()"
   ]
  },
  {
   "cell_type": "code",
   "execution_count": null,
   "metadata": {},
   "outputs": [],
   "source": [
    "# Heat map of the residuals against y\n",
    "\n",
    "# create the heatmap of residuals against y\n",
    "plt.hexbin(y, residual, cmap=\"viridis\")\n",
    "# set the size of the graph\n",
    "plt.axis(\"auto\")\n",
    "# lables\n",
    "plt.xlabel(\"True Values (y)\")\n",
    "plt.ylabel(\"Residuals\")\n",
    "plt.title(\"Residuals v. True Values\")\n",
    "# zero horizontal line overlay\n",
    "plt.axline([0, 0], slope=0, color=\"red\")\n",
    "plt.colorbar()"
   ]
  },
  {
   "cell_type": "code",
   "execution_count": null,
   "metadata": {},
   "outputs": [],
   "source": []
  }
 ],
 "metadata": {
  "kernelspec": {
   "display_name": "hot-dust",
   "language": "python",
   "name": "hot-dust"
  },
  "language_info": {
   "codemirror_mode": {
    "name": "ipython",
    "version": 3
   },
   "file_extension": ".py",
   "mimetype": "text/x-python",
   "name": "python",
   "nbconvert_exporter": "python",
   "pygments_lexer": "ipython3",
   "version": "3.10.13"
  }
 },
 "nbformat": 4,
 "nbformat_minor": 4
}
